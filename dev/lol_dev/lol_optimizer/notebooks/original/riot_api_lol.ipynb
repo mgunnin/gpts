{
 "cells": [
  {
   "cell_type": "markdown",
   "id": "2922b366",
   "metadata": {},
   "source": [
    "## RIOT API"
   ]
  },
  {
   "cell_type": "markdown",
   "id": "f066354d",
   "metadata": {},
   "source": [
    "Import necessary libraries"
   ]
  },
  {
   "cell_type": "code",
   "execution_count": null,
   "id": "1573fd90",
   "metadata": {},
   "outputs": [],
   "source": [
    "from fastapi import FastAPI, Request, HTTPException\n",
    "from fastapi.responses import FileResponse, Response\n",
    "from fastapi.middleware.cors import CORSMiddleware\n",
    "from typing import List, Optional\n",
    "from openai import OpenAI\n",
    "import httpx\n",
    "import asyncio\n",
    "import logging\n",
    "import os\n",
    "import requests\n",
    "import pandas as pd\n",
    "\n",
    "from dotenv import load_dotenv\n",
    "\n",
    "load_dotenv()\n",
    "RIOT_API_KEY = os.getenv(\"RIOT_API_KEY\")\n",
    "if not RIOT_API_KEY:\n",
    "    raise ValueError(\"RIOT_API_KEY environment variable is not set\")\n",
    "RIOT_API_BASE_URL = \"api.riotgames.com\"\n",
    "\n",
    "app = FastAPI()"
   ]
  },
  {
   "cell_type": "markdown",
   "id": "a0aba577",
   "metadata": {},
   "source": [
    "## Constants"
   ]
  },
  {
   "cell_type": "code",
   "execution_count": null,
   "id": "e0a373f9",
   "metadata": {},
   "outputs": [],
   "source": [
    "# summoner_name = \"gameb0x\"\n",
    "REGIONS = [\"na1\", \"eun1\", \"euw1\", \"jp1\", \"kr\", \"br1\"]\n",
    "MASS_REGIONS = [\"americas\", \"asia\", \"europe\", \"sea\"]\n",
    "NO_GAMES = 25\n",
    "QUEUE_ID = 420\n",
    "RIOT_API_ROUTES = {\n",
    "    \"summoner\": \"/lol/summoner/v4/summoners/by-name/{summonerName}\",\n",
    "    \"match_by_puuid\": \"/lol/match/v5/matches/by-puuid/{puuid}/ids\",\n",
    "    \"match_by_id\": \"/lol/match/v5/matches/{matchId}\",\n",
    "    \"match_timeline\": \"/lol/match/v5/matches/{matchId}/timeline\"\n",
    "}\n",
    "QUEUE_ID_ROUTES = {\n",
    "    \"draft_pick\": 400,\n",
    "    \"ranked_solo\": 420,\n",
    "    \"blind_pick\": 430,\n",
    "    \"ranked_flex\": 440,\n",
    "    \"aram\": 450\n",
    "}\n",
    "\n",
    "# HTTP Client\n",
    "http_client = httpx.AsyncClient()"
   ]
  },
  {
   "cell_type": "markdown",
   "id": "1d5c7ca3",
   "metadata": {},
   "source": [
    "Retrieve API Key from https://developer.riotgames.com/\n",
    "\n",
    "Retrieve Queue ID: https://static.developer.riotgames.com/docs/lol/queues.json\n",
    "\n",
    "Queue IDs:\\\n",
    "400: 5v5 Draft Pick\\\n",
    "420: 5v5 Ranked Solo\\\n",
    "430: 5v5 Blind Pick\\\n",
    "440: 5v5 Ranked Flex\\\n",
    "450: 5v5 ARAM"
   ]
  },
  {
   "cell_type": "code",
   "execution_count": null,
   "id": "f3922753",
   "metadata": {},
   "outputs": [],
   "source": [
    "summoner_name = input(\"Please enter the summoner name: \")\n",
    "print(\"Summoner Name:\", summoner_name)\n",
    "region = input(\n",
    "    \"Please enter the region (na1, eun1, euw1, jp1, kr, br1). Default is 'na1': \"\n",
    ")\n",
    "if region == \"\":\n",
    "    region = \"na1\"\n",
    "elif region not in REGIONS:\n",
    "    while region not in REGIONS:\n",
    "        region = input(\n",
    "            \"Invalid region. Please enter the region (na1, eun1, euw1, jp1, kr, br1): \"\n",
    "        )\n",
    "print(\"Region:\", region)\n",
    "mass_region = input(\n",
    "    \"Please enter the mass region (americas, asia, europe, sea). Default is 'americas': \"\n",
    ")\n",
    "if mass_region == \"\":\n",
    "    mass_region = \"americas\"\n",
    "elif mass_region not in MASS_REGIONS:\n",
    "    while mass_region not in MASS_REGIONS:\n",
    "        mass_region = input(\n",
    "            \"Invalid mass region. Please provide a valid MASS REGION (americas, asia, europe, sea): \"\n",
    "        )\n",
    "print(\"Mass Region:\", mass_region)"
   ]
  },
  {
   "cell_type": "markdown",
   "id": "b46555da",
   "metadata": {},
   "source": [
    "Set: RIOT_API_URL\n",
    "- Using the previously supplied variables, sets the Riot API URL"
   ]
  },
  {
   "cell_type": "code",
   "execution_count": null,
   "id": "1e178c4e",
   "metadata": {},
   "outputs": [],
   "source": [
    "route = RIOT_API_ROUTES[\"summoner\"].format(summonerName=summoner_name)\n",
    "RIOT_API_URL = f\"https://{region}.{RIOT_API_BASE_URL}{route}\"\n",
    "RIOT_API_URL"
   ]
  },
  {
   "cell_type": "markdown",
   "id": "e3b7c06b",
   "metadata": {},
   "source": [
    "Retrieve: PLAYER_INFO & Set Variables\n",
    "- Player Info Fields\n",
    "  - id, accountId, puuid, name, profileIconId, revisionDate, summonerLevel\n",
    "- Variables Set\n",
    "  - id, account_id, puuid, name, profile_icon_id, summoner_level"
   ]
  },
  {
   "cell_type": "code",
   "execution_count": null,
   "id": "5b5eb83d",
   "metadata": {
    "tags": [
     "player_info"
    ]
   },
   "outputs": [],
   "source": [
    "resp = requests.get(RIOT_API_URL, headers={\"X-Riot-Token\": RIOT_API_KEY})\n",
    "player_info = resp.json()\n",
    "id = player_info[\"id\"]\n",
    "account_id = player_info[\"accountId\"]\n",
    "puuid = player_info[\"puuid\"]\n",
    "name = player_info[\"name\"]\n",
    "profile_icon_id = player_info[\"profileIconId\"]\n",
    "summoner_level = player_info[\"summonerLevel\"]"
   ]
  },
  {
   "cell_type": "markdown",
   "id": "da8a634c",
   "metadata": {},
   "source": [
    "#### MATCH BY PUUID"
   ]
  },
  {
   "cell_type": "code",
   "execution_count": null,
   "id": "816d58e4",
   "metadata": {
    "tags": [
     "RIOT_API_URL",
     "route"
    ]
   },
   "outputs": [],
   "source": [
    "route = RIOT_API_ROUTES[\"match_by_puuid\"].format(puuid=puuid)\n",
    "RIOT_API_URL = f\"https://{mass_region}.{RIOT_API_BASE_URL}{route}\""
   ]
  },
  {
   "cell_type": "markdown",
   "id": "5daa2240",
   "metadata": {},
   "source": [
    "Set: MATCH_IDS"
   ]
  },
  {
   "cell_type": "code",
   "execution_count": null,
   "id": "eefacbca",
   "metadata": {
    "tags": [
     "match_ids"
    ]
   },
   "outputs": [],
   "source": [
    "resp = requests.get(RIOT_API_URL, headers={\"X-Riot-Token\": RIOT_API_KEY})\n",
    "match_ids = resp.json()\n",
    "\n",
    "# Get the most recent match\n",
    "recent_match = match_ids[0]"
   ]
  },
  {
   "cell_type": "markdown",
   "id": "e895dc15",
   "metadata": {},
   "source": [
    "Update: RIOT_API_URL \n",
    "- Route = 'match_by_id'\n",
    "- Match details of the most recent match"
   ]
  },
  {
   "cell_type": "code",
   "execution_count": null,
   "id": "642fa051",
   "metadata": {
    "tags": [
     "RIOT_API_URL"
    ]
   },
   "outputs": [],
   "source": [
    "route = RIOT_API_ROUTES[\"match_by_id\"].format(matchId=recent_match)\n",
    "RIOT_API_URL = f\"https://{mass_region}.{RIOT_API_BASE_URL}{route}\"\n",
    "RIOT_API_URL"
   ]
  },
  {
   "cell_type": "markdown",
   "id": "db7609af",
   "metadata": {},
   "source": [
    "Retrieve: Match Data\n",
    "- From updated RIOT_API_URL with most recent match"
   ]
  },
  {
   "cell_type": "code",
   "execution_count": null,
   "id": "0c8e17f8",
   "metadata": {},
   "outputs": [],
   "source": [
    "def get_match_data(match_id):\n",
    "    # Get match data from Riot API\n",
    "    RIOT_API_URL = f\"https://americas.api.riotgames.com/lol/match/v5/matches{match_id}\"\n",
    "    resp = requests.get(RIOT_API_URL, headers={\"X-Riot-Token\": RIOT_API_KEY})\n",
    "    match_data = resp.json()\n",
    "    return match_data\n",
    "\n",
    "def get_player_info(match_data):\n",
    "    # Get player info from match data\n",
    "    return match_data['info']\n",
    "\n",
    "def get_match_info(match_data):\n",
    "    # Get match info from match data\n",
    "    return match_data['metadata']"
   ]
  },
  {
   "cell_type": "markdown",
   "metadata": {},
   "source": [
    "## FastAPI"
   ]
  },
  {
   "cell_type": "markdown",
   "metadata": {},
   "source": [
    "SUMMONER_NAME"
   ]
  },
  {
   "cell_type": "code",
   "execution_count": null,
   "metadata": {},
   "outputs": [],
   "source": [
    "@app.get(\"/summoner/{summoner_name}\")\n",
    "async def get_summoner_info(summoner_name: str, region: str = \"na1\"):\n",
    "    if region not in REGIONS:\n",
    "        raise HTTPException(status_code=400, detail=\"Invalid region\")\n",
    "\n",
    "    route = RIOT_API_ROUTES[\"summoner\"].format(summonerName=summoner_name)\n",
    "    RIOT_API_URL = f\"https://{region}.{RIOT_API_BASE_URL}{route}\"\n",
    "    headers = {\"X-Riot-Token\": RIOT_API_KEY}\n",
    "    return await get_api_response(url, headers)\n",
    "\n",
    "print(\"Summoner Name:\", summoner_name)"
   ]
  },
  {
   "cell_type": "code",
   "execution_count": null,
   "id": "6516d34a",
   "metadata": {},
   "outputs": [],
   "source": [
    "@app.get(\"/puuid/{summoner_name}\")\n",
    "async def get_puuid(summoner_name: str, region: str, RIOT_API_KEY: str):\n",
    "    RIOT_API_URL = f\"https://{region}.api.riotgames.com/lol/summoner/v4/summoners/by-name/{summoner_name}\"\n",
    "    async with httpx.AsyncClient() as client:\n",
    "        response = await client.get(\n",
    "            RIOT_API_URL, headers={\"X-Riot-Token\": RIOT_API_KEY}\n",
    "        )\n",
    "\n",
    "        if response.status_code != 200:\n",
    "            raise HTTPException(status_code=response.status_code, detail=response.text)\n",
    "\n",
    "        data = response.json()\n",
    "        return {\"puuid\": data[\"puuid\"]}\n",
    "\n",
    "print(\"Summoner Name:\", summoner_name, \"\\nPuuid:\", puuid)"
   ]
  },
  {
   "cell_type": "markdown",
   "id": "e966d7ae",
   "metadata": {},
   "source": [
    "PUUID"
   ]
  },
  {
   "cell_type": "code",
   "execution_count": null,
   "id": "4f5ad23e",
   "metadata": {},
   "outputs": [],
   "source": [
    "@app.get(\"/puuid/{summoner_name}\")\n",
    "async def get_puuid(summoner_name: str, region: str, RIOT_API_KEY: str):\n",
    "    RIOT_API_URL = f\"https://{region}.api.riotgames.com/lol/summoner/v4/summoners/by-name/{summoner_name}\"\n",
    "    async with httpx.AsyncClient() as client:\n",
    "        response = await client.get(\n",
    "            RIOT_API_URL, headers={\"X-Riot-Token\": RIOT_API_KEY}\n",
    "        )\n",
    "        \n",
    "        if response.status_code != 200:\n",
    "            raise HTTPException(status_code=response.status_code, detail=response.text)\n",
    "        \n",
    "        player_info = response.json()\n",
    "\n",
    "        puuid = player_info['puuid']\n",
    "    \n",
    "    return puuid\n",
    "puuid = await get_puuid(summoner_name, region, RIOT_API_KEY)\n",
    "print(puuid)"
   ]
  },
  {
   "cell_type": "markdown",
   "metadata": {},
   "source": [
    "MATCHES\n",
    "\n",
    "- The get_multiple_match_data function is a FastAPI endpoint that takes a list of match_ids, mass_region, and RIOT_API_KEY.\n",
    "- It creates a list of tasks, where each task is a call to the get_match_data function for a different match_id.\n",
    "asyncio.gather is then used to run these tasks concurrently. This function waits for all the tasks to complete and returns a list of their results.\n",
    "- The get_match_data function makes an asynchronous call to the Riot API to fetch data for a given match ID."
   ]
  },
  {
   "cell_type": "code",
   "execution_count": null,
   "metadata": {},
   "outputs": [],
   "source": [
    "@app.get(\"/matches\")\n",
    "async def get_multiple_match_data(\n",
    "    match_ids: List[str], mass_region: str, RIOT_API_KEY: str\n",
    "):\n",
    "    tasks = [\n",
    "        get_match_data(match_id, mass_region, RIOT_API_KEY) for match_id in match_ids\n",
    "    ]\n",
    "    match_data_list = await asyncio.gather(*tasks)\n",
    "    return match_data_list\n",
    "\n",
    "\n",
    "async def get_api_response(url: str, headers: dict):\n",
    "    async with httpx.AsyncClient() as client:\n",
    "        response = await client.get(url, headers=headers)\n",
    "        if response.status_code != 200:\n",
    "            raise HTTPException(status_code=response.status_code, detail=response.text)\n",
    "        return response.json()\n",
    "\n",
    "\n",
    "async def get_match_data(match_id: str, mass_region: str, RIOT_API_KEY: str):\n",
    "    RIOT_API_URL = (\n",
    "        f\"https://{mass_region}.{RIOT_API_BASE_URL}/lol/match/v5/matches/{match_id}\"\n",
    "    )\n",
    "    headers = {\"X-Riot-Token\": RIOT_API_KEY}\n",
    "    return await get_api_response(RIOT_API_URL, headers)"
   ]
  },
  {
   "cell_type": "markdown",
   "id": "900ce0ce",
   "metadata": {},
   "source": [
    "GET MATCH_IDS\n",
    "- List of all the match IDs given a players puuid and mass region"
   ]
  },
  {
   "cell_type": "code",
   "execution_count": null,
   "id": "a0f1b252",
   "metadata": {},
   "outputs": [],
   "source": [
    "@app.get(\"/match_ids/{puuid}\")\n",
    "async def get_match_ids(puuid: str, mass_region: str, RIOT_API_KEY: str):\n",
    "    RIOT_API_URL = f\"https://{mass_region}.api.riotgames.com/lol/match/v5/matches/by-puuid/{puuid}/ids\"\n",
    "    async with httpx.AsyncClient() as client:\n",
    "        response = await client.get(RIOT_API_URL, headers={\"X-Riot-Token\": RIOT_API_KEY})\n",
    "        \n",
    "        if response.status_code != 200:\n",
    "            raise HTTPException(status_code=response.status_code, detail=response.text)\n",
    "        \n",
    "        match_ids = response.json()\n",
    "        # return {\"match_ids\": match_ids}\n",
    "    return match_ids\n",
    "    \n",
    "match_ids = await get_match_ids(puuid, mass_region, RIOT_API_KEY)\n",
    "print (match_ids)"
   ]
  },
  {
   "cell_type": "markdown",
   "id": "6262f0e3",
   "metadata": {},
   "source": [
    "GET: MATCH_DATA"
   ]
  },
  {
   "cell_type": "code",
   "execution_count": null,
   "id": "9eec46cb",
   "metadata": {},
   "outputs": [],
   "source": [
    "@app.get(\"/match_data/{match_id}\")\n",
    "async def get_match_data(match_id: str, mass_region: str, RIOT_API_KEY: str):\n",
    "    RIOT_API_URL = f\"https://{mass_region}.api.riotgames.com/lol/match/v5/matches/{match_id}\"\n",
    "    async with httpx.AsyncClient() as client:\n",
    "        response = await client.get(RIOT_API_URL, headers={\"X-Riot-Token\": RIOT_API_KEY})\n",
    "        \n",
    "        if response.status_code != 200:\n",
    "            raise HTTPException(status_code=response.status_code, detail=response.text)\n",
    "        \n",
    "        match_data = response.json()\n",
    "    return match_data\n",
    "\n",
    "match_data = await get_match_data(match_ids[0], mass_region, RIOT_API_KEY)\n",
    "print(match_data)"
   ]
  },
  {
   "cell_type": "markdown",
   "id": "e4f95c80",
   "metadata": {},
   "source": [
    "Retrieve: Our Player's Data"
   ]
  },
  {
   "cell_type": "code",
   "execution_count": null,
   "id": "5b06f4d9",
   "metadata": {},
   "outputs": [],
   "source": [
    "@app.get(\"/player_data/{puuid}\")\n",
    "async def find_player_data(puuid: str, match_id: str, mass_region: str, RIOT_API_KEY: str):\n",
    "    RIOT_API_URL = f\"https://{mass_region}.api.riotgames.com/lol/match/v5/matches/{match_id}\"\n",
    "    async with httpx.AsyncClient() as client:\n",
    "        response = await client.get(RIOT_API_URL, headers={\"X-Riot-Token\": RIOT_API_KEY})\n",
    "        \n",
    "        if response.status_code != 200:\n",
    "            raise HTTPException(status_code=response.status_code, detail=response.text)\n",
    "        \n",
    "        match_data = response.json()\n",
    "        participants = match_data['metadata']['participants']\n",
    "        player_index = participants.index(puuid)\n",
    "        player_data = match_data['info']['participants'][player_index]\n",
    "        \n",
    "    return player_data\n",
    "\n",
    "player_data = await find_player_data(puuid, match_ids[0], mass_region, RIOT_API_KEY)\n",
    "print(player_data)"
   ]
  },
  {
   "cell_type": "markdown",
   "id": "3687fbe4",
   "metadata": {},
   "source": [
    "Store Data for Past X Games\n",
    "- Initialize Empty Dictionary\n",
    "- Loop through Match IDs\n",
    "- Retrieve Match Data\n"
   ]
  },
  {
   "cell_type": "code",
   "execution_count": null,
   "id": "a9eb9fa6",
   "metadata": {},
   "outputs": [],
   "source": [
    "@app.get(\"/gather_data/\")\n",
    "async def gather_data(\n",
    "    match_ids: List[str], puuid: str, mass_region: str, RIOT_API_KEY: str\n",
    "):\n",
    "    data = {\n",
    "        \"champion\": [],\n",
    "        \"kills\": [],\n",
    "        \"deaths\": [],\n",
    "        \"assists\": [],\n",
    "        \"kda\": [],\n",
    "        \"win\": [],\n",
    "    }\n",
    "\n",
    "\n",
    "    for match_id in match_ids:\n",
    "        print(match_id)\n",
    "\n",
    "        # Run two functions to get the player data from the match ID\n",
    "        match_data = await get_match_data(match_id, mass_region, RIOT_API_KEY)\n",
    "        if \"status\" in match_data and match_data[\"status\"][\"status_code\"] == 404:\n",
    "            print(f\"Match data not found for match ID: {match_id}. Skipping this match ID.\")\n",
    "            continue\n",
    "        player_data = await find_player_data(puuid, match_id, mass_region, RIOT_API_KEY)\n",
    "\n",
    "        # Match variables we want to keep track of\n",
    "        champion = player_data[\"championName\"]\n",
    "        k = player_data[\"kills\"]\n",
    "        d = player_data[\"deaths\"]\n",
    "        a = player_data[\"assists\"]\n",
    "        kda = (k + a) / d if d != 0 else (k + a)\n",
    "        win = player_data[\"win\"]\n",
    "\n",
    "        # Add them to our dataset\n",
    "        data[\"champion\"].append(champion)\n",
    "        data[\"kills\"].append(k)\n",
    "        data[\"deaths\"].append(d)\n",
    "        data[\"assists\"].append(a)\n",
    "        data[\"kda\"].append(kda)\n",
    "        data[\"win\"].append(win)\n",
    "\n",
    "    return data"
   ]
  },
  {
   "cell_type": "markdown",
   "id": "df2fb235",
   "metadata": {},
   "source": [
    "#### Set Variable: Data\n",
    "Retrieve data on the last 20 games for the account\n"
   ]
  },
  {
   "cell_type": "code",
   "execution_count": null,
   "id": "f0ec6678",
   "metadata": {},
   "outputs": [],
   "source": [
    "data\n",
    "# Convert Data Dictionary into a Dataframe\n",
    "df = pd.DataFrame(data)"
   ]
  },
  {
   "cell_type": "markdown",
   "id": "5a96fe52",
   "metadata": {},
   "source": [
    "Convert: Function to call later"
   ]
  },
  {
   "cell_type": "code",
   "execution_count": null,
   "id": "ef2f5395",
   "metadata": {},
   "outputs": [],
   "source": [
    "def gather_all_data(puuid, match_ids, mass_region, RIOT_API_KEY):\n",
    "    # We initialise an empty dictionary to store data for each game\n",
    "    data = {\"champion\": [], \"kills\": [], \"deaths\": [], \"assists\": [], \"win\": []}\n",
    "\n",
    "    for match_id in match_ids:\n",
    "        print(match_id)\n",
    "\n",
    "        # run the two functions to get the player data from the match ID\n",
    "        match_data = get_match_data(match_id, mass_region, RIOT_API_KEY)\n",
    "        if \"status\" in match_data and match_data[\"status\"][\"status_code\"] == 404:\n",
    "            print(\n",
    "                f\"Match data not found for match ID: {match_id}. Skipping this match ID.\"\n",
    "            )\n",
    "            continue\n",
    "        player_data = find_player_data(match_data, puuid)\n",
    "\n",
    "        # assign the variables we're interested in\n",
    "        champion = player_data[\"championName\"]\n",
    "        k = player_data[\"kills\"]\n",
    "        d = player_data[\"deaths\"]\n",
    "        a = player_data[\"assists\"]\n",
    "        win = player_data[\"win\"]\n",
    "\n",
    "        # add them to our dataset\n",
    "        data[\"champion\"].append(champion)\n",
    "        data[\"kills\"].append(k)\n",
    "        data[\"deaths\"].append(d)\n",
    "        data[\"assists\"].append(a)\n",
    "        data[\"win\"].append(win)\n",
    "\n",
    "    df = pd.DataFrame(data)\n",
    "\n",
    "    return df\n",
    "\n",
    "\n",
    "# Update DF\n",
    "df = gather_all_data(puuid, match_ids, mass_region, RIOT_API_KEY)"
   ]
  },
  {
   "cell_type": "markdown",
   "id": "e66845fe",
   "metadata": {},
   "source": [
    "##### Dataframe Types"
   ]
  },
  {
   "cell_type": "code",
   "execution_count": null,
   "id": "3501a7ad",
   "metadata": {},
   "outputs": [],
   "source": [
    "# Converting from outcome column from 'bool' to 'int'\n",
    "df[\"win\"] = df[\"win\"].astype(int)\n",
    "# Find the averages. 'numeric_only' prevents trying to average the \"champion\" column\n",
    "df.mean(numeric_only=True)\n",
    "# Get the averages per champion\n",
    "df.groupby(\"champion\").mean()\n",
    "# Order your games by amount of kills\n",
    "df.sort_values(\"kills\")"
   ]
  },
  {
   "cell_type": "markdown",
   "id": "b68279aa",
   "metadata": {},
   "source": [
    "### Include Arguments\n",
    "'no_games' \\\n",
    "'queue_id'"
   ]
  },
  {
   "cell_type": "code",
   "execution_count": null,
   "id": "450f5da7",
   "metadata": {},
   "outputs": [],
   "source": [
    "# Updated function where you can set which queue to take data from\n",
    "def get_match_ids(puuid, mass_region, no_games, queue_id, RIOT_API_KEY):\n",
    "    RIOT_API_URL = (\n",
    "        \"https://\" +\n",
    "        mass_region +\n",
    "        \".api.riotgames.com/lol/match/v5/matches/by-puuid/\" +\n",
    "        puuid + \n",
    "        \"/ids?start=0\" + \n",
    "        \"&count=\" +\n",
    "        str(no_games) + \n",
    "        \"&queue=\" + \n",
    "        str(queue_id) + \n",
    "        \"&api_key=\" + \n",
    "        RIOT_API_KEY\n",
    "    )\n",
    "    \n",
    "    print(RIOT_API_URL)\n",
    "    \n",
    "    resp = requests.get(RIOT_API_URL)\n",
    "    match_ids = resp.json()\n",
    "    return match_ids      "
   ]
  },
  {
   "cell_type": "markdown",
   "id": "2b47e441",
   "metadata": {},
   "source": [
    "### Wrapping All Functions Into One"
   ]
  },
  {
   "cell_type": "code",
   "execution_count": null,
   "id": "1de15df4",
   "metadata": {},
   "outputs": [],
   "source": [
    "def master_function(summoner_name, region, mass_region, no_games, queue_id, RIOT_API_KEY):\n",
    "    puuid = get_puuid(summoner_name, region, RIOT_API_KEY)\n",
    "    match_ids = get_match_ids(puuid, mass_region, no_games, queue_id, RIOT_API_KEY)\n",
    "    df = gather_all_data(puuid, match_ids, mass_region, RIOT_API_KEY)\n",
    "    return df"
   ]
  },
  {
   "cell_type": "code",
   "execution_count": null,
   "id": "84726402",
   "metadata": {
    "scrolled": true
   },
   "outputs": [],
   "source": [
    "def find_player_data(match_data, puuid):\n",
    "    participants = match_data[\"metadata\"][\"participants\"]\n",
    "    player_index = participants.index(puuid)\n",
    "    player_data = match_data[\"info\"][\"participants\"][player_index]\n",
    "    return player_data\n",
    "\n",
    "\n",
    "df = master_function(\n",
    "    summoner_name, region, mass_region, no_games, queue_id, RIOT_API_KEY\n",
    ")"
   ]
  },
  {
   "cell_type": "code",
   "execution_count": null,
   "id": "2369ece0",
   "metadata": {},
   "outputs": [],
   "source": [
    "df"
   ]
  },
  {
   "cell_type": "code",
   "execution_count": null,
   "id": "f97728f5",
   "metadata": {},
   "outputs": [],
   "source": [
    "print(\"Summoner:\", summoner_name, \"of\", region.upper()) # upper simply capitalises the region\n",
    "print(\"Here are some interesting statistics about your last\", no_games, \"solo ranked games\")\n",
    "\n",
    "# create a count column\n",
    "df['count'] = 1 \n",
    "\n",
    "# the \"agg\" allows us to get the average of every column but sum the count                                       # see?\n",
    "champ_df = df.groupby('champion').agg({'kills': 'mean', 'deaths': 'mean', 'assists': 'mean', 'win': 'mean', 'count': 'sum'})\n",
    "\n",
    "# we reset in the index so we can still use the \"champion\" column\n",
    "champ_df.reset_index(inplace=True)\n",
    "\n",
    "# we limit it to only champions where you've played 2 or more games\n",
    "champ_df = champ_df[champ_df['count'] >= 2]\n",
    "\n",
    "# create a kda column\n",
    "champ_df['kda'] = (champ_df['kills'] + champ_df['assists']) / champ_df['deaths']\n",
    "\n",
    "# sort the table by KDA, starting from the highest\n",
    "champ_df = champ_df.sort_values('kda', ascending=False) # ascending determines whether it's highest to lowest or vice-versa\n",
    "\n",
    "# assign the first row and last row to a variable so we can print information about it\n",
    "best_row = champ_df.iloc[0] # .iloc[0] simply takes the first row in dataframe\n",
    "worst_row = champ_df.iloc[-1] # .iloc[-1] takes the last row in a dataframe\n",
    "\n",
    "print(\"Your best KDA is on\", best_row['champion'], \"with a KDA of\", best_row['kda'], \"over\", best_row['count'], \"game/s\")\n",
    "print(\"Your worst KDA is on\", worst_row['champion'], \"with a KDA of\", worst_row['kda'], \"over\", worst_row['count'], \"game/s\")\n",
    "\n",
    "# sort by count instead\n",
    "champ_df = champ_df.sort_values('count', ascending=False)\n",
    "\n",
    "# get your most played champ\n",
    "row = champ_df.iloc[0]\n",
    "\n",
    "# Assign and format the win rate\n",
    "win_rate = row['win']\n",
    "win_rate = str(round(win_rate * 100, 1)) + \"%\"\n",
    "\n",
    "print(\"Your highest played Champion is\", row['champion'], \"with\", row['count'], 'game/s', \n",
    "     \"and an average Win Rate of\", win_rate)\n",
    "\n",
    "# Sort by highest kills in a game (note, not using the champ_df groupby anymore but the raw data)\n",
    "highest_kills = df.sort_values('kills', ascending=False)\n",
    "row = highest_kills.iloc[0]\n",
    "print(\"Your highest kill game was with\", row['champion'], \"where you had\", row['kills'], \"kills\")\n"
   ]
  },
  {
   "cell_type": "markdown",
   "id": "581c442a",
   "metadata": {},
   "source": [
    "## Next Steps\n",
    "- Add a new arguments to the functions. For example, you could add a \"queue\" argument to the get_match_history function, so you can choose which queue you want to get data from.\n",
    "- Create a new function to get a players Champion Mastery, add a line to our final output saying who the highest mastery champion is\n",
    "- Jump into the \"match timeline\" API and get some time specific data, like how many kills you average at 7 minutes\n",
    "- From the LEAGUE-V4 API, grab 100 players from a league of your choice. Build a loop that gathers data about all 100 players recent games. Find out what the average number of kills a player has at 15 minutes for each role.\n",
    "\n",
    "- How much Mastery a player has on each Champion\n",
    "- In-depth game detail for every minute of the game (i.e. how much Gold/XP each player has at 12 minutes)\n",
    "- In-depth objective and kill data, like who killed who, when and where\n",
    "- Ranked information, such as their current rank for each queue\n",
    "- Who is currently in Challenger, Grand Master & Master (& every queue below that too!)\n",
    "- And much more...!\n",
    "\n",
    "### Advanced Ideas\n",
    "\n",
    "- Advanced error handling, 429 Rate Limits is just one of many and each requires it's own logic\n",
    "- Speeding up your code using async/multiprocessing/threading\n",
    "\n"
   ]
  }
 ],
 "metadata": {
  "kernelspec": {
   "display_name": "Python 3 (ipykernel)",
   "language": "python",
   "name": "python3"
  },
  "language_info": {
   "codemirror_mode": {
    "name": "ipython",
    "version": 3
   },
   "file_extension": ".py",
   "mimetype": "text/x-python",
   "name": "python",
   "nbconvert_exporter": "python",
   "pygments_lexer": "ipython3",
   "version": "3.11.5"
  }
 },
 "nbformat": 4,
 "nbformat_minor": 5
}
