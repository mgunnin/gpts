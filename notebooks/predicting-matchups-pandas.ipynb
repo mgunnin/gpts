{
 "cells": [
  {
   "cell_type": "code",
   "execution_count": 238,
   "metadata": {
    "_cell_guid": "b1076dfc-b9ad-4769-8c92-a6c4dae69d19",
    "_uuid": "8f2839f25d086af736a60e9eeb907d3b93b6e0e5",
    "execution": {
     "iopub.execute_input": "2021-09-26T01:49:39.736041Z",
     "iopub.status.busy": "2021-09-26T01:49:39.735753Z",
     "iopub.status.idle": "2021-09-26T01:49:39.748650Z",
     "shell.execute_reply": "2021-09-26T01:49:39.747681Z",
     "shell.execute_reply.started": "2021-09-26T01:49:39.736010Z"
    }
   },
   "outputs": [],
   "source": [
    "!pip install seaborn matplotlib scikit-learn"
   ]
  },
  {
   "cell_type": "code",
   "execution_count": null,
   "metadata": {},
   "outputs": [],
   "source": [
    "import pandas as pd # data processing, CSV file I/O (e.g. pd.read_csv)\n",
    "pd.set_option('float_format', '{:f}'.format)\n",
    "import os\n",
    "import seaborn as sns\n",
    "import matplotlib.pyplot as plt\n",
    "%matplotlib inline\n",
    "\n",
    "from sklearn.preprocessing import LabelEncoder\n",
    "from sklearn.preprocessing import StandardScaler \n",
    "from sklearn.linear_model import LogisticRegression\n",
    "from sklearn.preprocessing import StandardScaler\n",
    "from sklearn.linear_model import LogisticRegression\n"
   ]
  },
  {
   "cell_type": "code",
   "execution_count": null,
   "metadata": {},
   "outputs": [],
   "source": [
    "print(os.environ['TNS_ADMIN'])"
   ]
  },
  {
   "cell_type": "code",
   "execution_count": 239,
   "metadata": {
    "execution": {
     "iopub.execute_input": "2021-09-26T01:49:39.753681Z",
     "iopub.status.busy": "2021-09-26T01:49:39.753128Z",
     "iopub.status.idle": "2021-09-26T01:49:54.438419Z",
     "shell.execute_reply": "2021-09-26T01:49:54.437796Z",
     "shell.execute_reply.started": "2021-09-26T01:49:39.753633Z"
    }
   },
   "outputs": [
    {
     "data": {
      "text/html": [
       "<div>\n",
       "<style scoped>\n",
       "    .dataframe tbody tr th:only-of-type {\n",
       "        vertical-align: middle;\n",
       "    }\n",
       "\n",
       "    .dataframe tbody tr th {\n",
       "        vertical-align: top;\n",
       "    }\n",
       "\n",
       "    .dataframe thead th {\n",
       "        text-align: right;\n",
       "    }\n",
       "</style>\n",
       "<table border=\"1\" class=\"dataframe\">\n",
       "  <thead>\n",
       "    <tr style=\"text-align: right;\">\n",
       "      <th></th>\n",
       "      <th>match_id</th>\n",
       "      <th>champ1</th>\n",
       "      <th>champ2</th>\n",
       "      <th>win</th>\n",
       "    </tr>\n",
       "  </thead>\n",
       "  <tbody>\n",
       "    <tr>\n",
       "      <th>0</th>\n",
       "      <td>EUN1_2910807891_utility</td>\n",
       "      <td>Velkoz</td>\n",
       "      <td>Yuumi</td>\n",
       "      <td>1</td>\n",
       "    </tr>\n",
       "    <tr>\n",
       "      <th>1</th>\n",
       "      <td>EUN1_2910807891_jungle</td>\n",
       "      <td>Shaco</td>\n",
       "      <td>Nidalee</td>\n",
       "      <td>1</td>\n",
       "    </tr>\n",
       "    <tr>\n",
       "      <th>2</th>\n",
       "      <td>EUN1_2909987530_top</td>\n",
       "      <td>Riven</td>\n",
       "      <td>Sett</td>\n",
       "      <td>0</td>\n",
       "    </tr>\n",
       "    <tr>\n",
       "      <th>3</th>\n",
       "      <td>EUN1_2909987530_middle</td>\n",
       "      <td>Lissandra</td>\n",
       "      <td>Kassadin</td>\n",
       "      <td>0</td>\n",
       "    </tr>\n",
       "    <tr>\n",
       "      <th>4</th>\n",
       "      <td>EUN1_2909987530_bottom</td>\n",
       "      <td>Ashe</td>\n",
       "      <td>Ezreal</td>\n",
       "      <td>0</td>\n",
       "    </tr>\n",
       "  </tbody>\n",
       "</table>\n",
       "</div>"
      ],
      "text/plain": [
       "                  match_id     champ1    champ2  win\n",
       "0  EUN1_2910807891_utility     Velkoz     Yuumi    1\n",
       "1   EUN1_2910807891_jungle      Shaco   Nidalee    1\n",
       "2      EUN1_2909987530_top      Riven      Sett    0\n",
       "3   EUN1_2909987530_middle  Lissandra  Kassadin    0\n",
       "4   EUN1_2909987530_bottom       Ashe    Ezreal    0"
      ]
     },
     "execution_count": 239,
     "metadata": {},
     "output_type": "execute_result"
    }
   ],
   "source": [
    "df = pd.read_json('C:\\\\Users\\\\nache\\\\1v1s.json')\n",
    "\n",
    "df.head(5)"
   ]
  },
  {
   "cell_type": "code",
   "execution_count": 240,
   "metadata": {},
   "outputs": [
    {
     "data": {
      "text/plain": [
       "array(['Velkoz', 'Shaco', 'Riven', 'Lissandra', 'Ashe', 'Braum', 'Graves',\n",
       "       'Akali', 'Corki', 'Ziggs', 'Senna', 'Udyr', 'Vladimir', 'Zed',\n",
       "       'Draven', 'Thresh', 'Nocturne', 'Jax', 'Camille', 'Kassadin',\n",
       "       'Aphelios', 'Akshan', 'Lucian', 'Ezreal', 'Lux', 'Evelynn',\n",
       "       'Vayne', 'Nami', 'Nunu', 'Malphite', 'Pyke', 'Elise', 'MonkeyKing',\n",
       "       'Jinx', 'Sett', 'Yone', 'Kaisa', 'Taric', 'Morgana', 'Viego',\n",
       "       'Viktor', 'Rell', 'Nidalee', 'Seraphine', 'Galio', 'Diana',\n",
       "       'Renekton', 'Sylas', 'Amumu', 'DrMundo', 'LeeSin', 'Samira',\n",
       "       'Janna', 'Khazix', 'Jayce', 'Ryze', 'Alistar', 'Volibear',\n",
       "       'Caitlyn', 'RekSai', 'Gwen', 'Kennen', 'Twitch', 'Yuumi', 'Irelia',\n",
       "       'Kayn', 'Sion', 'Rumble', 'Katarina', 'Tristana', 'Leblanc',\n",
       "       'Lulu', 'JarvanIV', 'Malzahar', 'Gangplank', 'Jhin', 'Karma',\n",
       "       'MasterYi', 'KogMaw', 'Fiora', 'Leona', 'Kindred', 'Soraka',\n",
       "       'Warwick', 'Nasus', 'Shen', 'Zilean', 'Ekko', 'XinZhao',\n",
       "       'Tryndamere', 'Anivia', 'Ahri', 'Xerath', 'Kled', 'Pantheon',\n",
       "       'Hecarim', 'Nautilus', 'Talon', 'FiddleSticks', 'Yorick', 'Annie',\n",
       "       'Rakan', 'Chogath', 'Syndra', 'MissFortune', 'Olaf', 'Veigar',\n",
       "       'Lillia', 'Teemo', 'Sivir', 'Darius', 'Taliyah', 'Yasuo', 'Swain',\n",
       "       'Ornn', 'Cassiopeia', 'Varus', 'Gnar', 'Mordekaiser', 'Neeko',\n",
       "       'Sejuani', 'Qiyana', 'Bard', 'Heimerdinger', 'Kayle', 'Orianna',\n",
       "       'TahmKench', 'Karthus', 'Urgot', 'Gragas', 'Aatrox', 'Azir',\n",
       "       'Xayah', 'Blitzcrank', 'Trundle', 'Zoe', 'Singed', 'Poppy', 'Zac',\n",
       "       'Sona', 'Zyra', 'Garen', 'Fizz', 'Brand', 'Shyvana', 'Ivern',\n",
       "       'Maokai', 'Kalista', 'TwistedFate', 'Vi', 'Rammus', 'Quinn',\n",
       "       'Rengar', 'Illaoi', 'Skarner', 'AurelionSol'], dtype=object)"
      ]
     },
     "execution_count": 240,
     "metadata": {},
     "output_type": "execute_result"
    }
   ],
   "source": [
    "df['champ1'].unique() # all champion names"
   ]
  },
  {
   "cell_type": "code",
   "execution_count": 241,
   "metadata": {},
   "outputs": [
    {
     "name": "stdout",
     "output_type": "stream",
     "text": [
      "<class 'list'>\n"
     ]
    }
   ],
   "source": [
    "champ_list = df['champ1'].unique().tolist()\n",
    "\n",
    "print(type(champ_list))"
   ]
  },
  {
   "cell_type": "code",
   "execution_count": 242,
   "metadata": {},
   "outputs": [
    {
     "name": "stdout",
     "output_type": "stream",
     "text": [
      "['Velkoz', 'Shaco', 'Riven', 'Lissandra', 'Ashe', 'Braum', 'Graves', 'Akali', 'Corki', 'Ziggs', 'Senna', 'Udyr', 'Vladimir', 'Zed', 'Draven', 'Thresh', 'Nocturne', 'Jax', 'Camille', 'Kassadin', 'Aphelios', 'Akshan', 'Lucian', 'Ezreal', 'Lux', 'Evelynn', 'Vayne', 'Nami', 'Nunu', 'Malphite', 'Pyke', 'Elise', 'MonkeyKing', 'Jinx', 'Sett', 'Yone', 'Kaisa', 'Taric', 'Morgana', 'Viego', 'Viktor', 'Rell', 'Nidalee', 'Seraphine', 'Galio', 'Diana', 'Renekton', 'Sylas', 'Amumu', 'DrMundo', 'LeeSin', 'Samira', 'Janna', 'Khazix', 'Jayce', 'Ryze', 'Alistar', 'Volibear', 'Caitlyn', 'RekSai', 'Gwen', 'Kennen', 'Twitch', 'Yuumi', 'Irelia', 'Kayn', 'Sion', 'Rumble', 'Katarina', 'Tristana', 'Leblanc', 'Lulu', 'JarvanIV', 'Malzahar', 'Gangplank', 'Jhin', 'Karma', 'MasterYi', 'KogMaw', 'Fiora', 'Leona', 'Kindred', 'Soraka', 'Warwick', 'Nasus', 'Shen', 'Zilean', 'Ekko', 'XinZhao', 'Tryndamere', 'Anivia', 'Ahri', 'Xerath', 'Kled', 'Pantheon', 'Hecarim', 'Nautilus', 'Talon', 'FiddleSticks', 'Yorick', 'Annie', 'Rakan', 'Chogath', 'Syndra', 'MissFortune', 'Olaf', 'Veigar', 'Lillia', 'Teemo', 'Sivir', 'Darius', 'Taliyah', 'Yasuo', 'Swain', 'Ornn', 'Cassiopeia', 'Varus', 'Gnar', 'Mordekaiser', 'Neeko', 'Sejuani', 'Qiyana', 'Bard', 'Heimerdinger', 'Kayle', 'Orianna', 'TahmKench', 'Karthus', 'Urgot', 'Gragas', 'Aatrox', 'Azir', 'Xayah', 'Blitzcrank', 'Trundle', 'Zoe', 'Singed', 'Poppy', 'Zac', 'Sona', 'Zyra', 'Garen', 'Fizz', 'Brand', 'Shyvana', 'Ivern', 'Maokai', 'Kalista', 'TwistedFate', 'Vi', 'Rammus', 'Quinn', 'Rengar', 'Illaoi', 'Skarner', 'AurelionSol']\n"
     ]
    }
   ],
   "source": [
    "print(champ_list)"
   ]
  },
  {
   "cell_type": "code",
   "execution_count": 243,
   "metadata": {
    "execution": {
     "iopub.execute_input": "2021-09-26T01:49:54.440858Z",
     "iopub.status.busy": "2021-09-26T01:49:54.439992Z",
     "iopub.status.idle": "2021-09-26T01:49:54.769024Z",
     "shell.execute_reply": "2021-09-26T01:49:54.767432Z",
     "shell.execute_reply.started": "2021-09-26T01:49:54.440806Z"
    }
   },
   "outputs": [
    {
     "data": {
      "text/html": [
       "<div>\n",
       "<style scoped>\n",
       "    .dataframe tbody tr th:only-of-type {\n",
       "        vertical-align: middle;\n",
       "    }\n",
       "\n",
       "    .dataframe tbody tr th {\n",
       "        vertical-align: top;\n",
       "    }\n",
       "\n",
       "    .dataframe thead th {\n",
       "        text-align: right;\n",
       "    }\n",
       "</style>\n",
       "<table border=\"1\" class=\"dataframe\">\n",
       "  <thead>\n",
       "    <tr style=\"text-align: right;\">\n",
       "      <th></th>\n",
       "      <th>count</th>\n",
       "      <th>mean</th>\n",
       "      <th>std</th>\n",
       "      <th>min</th>\n",
       "      <th>25%</th>\n",
       "      <th>50%</th>\n",
       "      <th>75%</th>\n",
       "      <th>max</th>\n",
       "    </tr>\n",
       "  </thead>\n",
       "  <tbody>\n",
       "    <tr>\n",
       "      <th>win</th>\n",
       "      <td>761720.000000</td>\n",
       "      <td>0.486769</td>\n",
       "      <td>0.499825</td>\n",
       "      <td>0.000000</td>\n",
       "      <td>0.000000</td>\n",
       "      <td>0.000000</td>\n",
       "      <td>1.000000</td>\n",
       "      <td>1.000000</td>\n",
       "    </tr>\n",
       "  </tbody>\n",
       "</table>\n",
       "</div>"
      ],
      "text/plain": [
       "            count     mean      std      min      25%      50%      75%  \\\n",
       "win 761720.000000 0.486769 0.499825 0.000000 0.000000 0.000000 1.000000   \n",
       "\n",
       "         max  \n",
       "win 1.000000  "
      ]
     },
     "execution_count": 243,
     "metadata": {},
     "output_type": "execute_result"
    }
   ],
   "source": [
    "# Data Exploration\n",
    "df.describe().transpose()"
   ]
  },
  {
   "cell_type": "code",
   "execution_count": 244,
   "metadata": {
    "execution": {
     "iopub.execute_input": "2021-09-26T01:49:54.770532Z",
     "iopub.status.busy": "2021-09-26T01:49:54.770252Z",
     "iopub.status.idle": "2021-09-26T01:49:54.777947Z",
     "shell.execute_reply": "2021-09-26T01:49:54.776288Z",
     "shell.execute_reply.started": "2021-09-26T01:49:54.770498Z"
    }
   },
   "outputs": [
    {
     "name": "stdout",
     "output_type": "stream",
     "text": [
      "Index(['match_id', 'champ1', 'champ2', 'win'], dtype='object')\n"
     ]
    }
   ],
   "source": [
    "print(df.columns)"
   ]
  },
  {
   "cell_type": "code",
   "execution_count": 245,
   "metadata": {
    "execution": {
     "iopub.execute_input": "2021-09-26T01:49:54.782534Z",
     "iopub.status.busy": "2021-09-26T01:49:54.781299Z",
     "iopub.status.idle": "2021-09-26T01:49:55.724517Z",
     "shell.execute_reply": "2021-09-26T01:49:55.723580Z",
     "shell.execute_reply.started": "2021-09-26T01:49:54.782448Z"
    }
   },
   "outputs": [
    {
     "name": "stdout",
     "output_type": "stream",
     "text": [
      "<class 'pandas.core.frame.DataFrame'>\n",
      "RangeIndex: 761720 entries, 0 to 761719\n",
      "Data columns (total 4 columns):\n",
      " #   Column    Non-Null Count   Dtype \n",
      "---  ------    --------------   ----- \n",
      " 0   match_id  761720 non-null  object\n",
      " 1   champ1    761720 non-null  object\n",
      " 2   champ2    761720 non-null  object\n",
      " 3   win       761720 non-null  int64 \n",
      "dtypes: int64(1), object(3)\n",
      "memory usage: 23.2+ MB\n"
     ]
    }
   ],
   "source": [
    "df.info()"
   ]
  },
  {
   "cell_type": "code",
   "execution_count": 246,
   "metadata": {
    "execution": {
     "iopub.execute_input": "2021-09-26T01:49:55.726241Z",
     "iopub.status.busy": "2021-09-26T01:49:55.725932Z",
     "iopub.status.idle": "2021-09-26T01:49:56.660656Z",
     "shell.execute_reply": "2021-09-26T01:49:56.659825Z",
     "shell.execute_reply.started": "2021-09-26T01:49:55.726200Z"
    }
   },
   "outputs": [
    {
     "data": {
      "text/plain": [
       "match_id    0\n",
       "champ1      0\n",
       "champ2      0\n",
       "win         0\n",
       "dtype: int64"
      ]
     },
     "execution_count": 246,
     "metadata": {},
     "output_type": "execute_result"
    }
   ],
   "source": [
    "# Cleaning data\n",
    "df.isna().sum()"
   ]
  },
  {
   "cell_type": "code",
   "execution_count": 247,
   "metadata": {
    "execution": {
     "iopub.execute_input": "2021-09-26T01:49:56.662201Z",
     "iopub.status.busy": "2021-09-26T01:49:56.661763Z",
     "iopub.status.idle": "2021-09-26T01:49:57.882990Z",
     "shell.execute_reply": "2021-09-26T01:49:57.882114Z",
     "shell.execute_reply.started": "2021-09-26T01:49:56.662109Z"
    }
   },
   "outputs": [],
   "source": [
    "df = df.dropna() # we drop these null values and corresponding rows."
   ]
  },
  {
   "cell_type": "code",
   "execution_count": 248,
   "metadata": {
    "execution": {
     "iopub.execute_input": "2021-09-26T01:49:57.884362Z",
     "iopub.status.busy": "2021-09-26T01:49:57.884118Z",
     "iopub.status.idle": "2021-09-26T01:49:57.889593Z",
     "shell.execute_reply": "2021-09-26T01:49:57.888694Z",
     "shell.execute_reply.started": "2021-09-26T01:49:57.884333Z"
    }
   },
   "outputs": [
    {
     "name": "stderr",
     "output_type": "stream",
     "text": [
      "E:\\Programs\\conda\\lib\\site-packages\\seaborn\\_decorators.py:36: FutureWarning: Pass the following variable as a keyword arg: x. From version 0.12, the only valid positional argument will be `data`, and passing other arguments without an explicit keyword will result in an error or misinterpretation.\n",
      "  warnings.warn(\n"
     ]
    },
    {
     "data": {
      "image/png": "[encoded data removed]",
      "text/plain": [
       "<Figure size 432x288 with 1 Axes>"
      ]
     },
     "metadata": {
      "needs_background": "light"
     },
     "output_type": "display_data"
    }
   ],
   "source": [
    "sns.countplot(df['champ1'], label=\"Count\")\n",
    "plt.show()"
   ]
  },
  {
   "cell_type": "code",
   "execution_count": 249,
   "metadata": {
    "execution": {
     "iopub.execute_input": "2021-09-26T01:49:57.891180Z",
     "iopub.status.busy": "2021-09-26T01:49:57.890968Z",
     "iopub.status.idle": "2021-09-26T01:49:57.918572Z",
     "shell.execute_reply": "2021-09-26T01:49:57.917655Z",
     "shell.execute_reply.started": "2021-09-26T01:49:57.891156Z"
    }
   },
   "outputs": [
    {
     "data": {
      "text/html": [
       "<div>\n",
       "<style scoped>\n",
       "    .dataframe tbody tr th:only-of-type {\n",
       "        vertical-align: middle;\n",
       "    }\n",
       "\n",
       "    .dataframe tbody tr th {\n",
       "        vertical-align: top;\n",
       "    }\n",
       "\n",
       "    .dataframe thead th {\n",
       "        text-align: right;\n",
       "    }\n",
       "</style>\n",
       "<table border=\"1\" class=\"dataframe\">\n",
       "  <thead>\n",
       "    <tr style=\"text-align: right;\">\n",
       "      <th></th>\n",
       "      <th>match_id</th>\n",
       "      <th>champ1</th>\n",
       "      <th>champ2</th>\n",
       "      <th>win</th>\n",
       "    </tr>\n",
       "  </thead>\n",
       "  <tbody>\n",
       "    <tr>\n",
       "      <th>0</th>\n",
       "      <td>EUN1_2910807891_utility</td>\n",
       "      <td>Velkoz</td>\n",
       "      <td>Yuumi</td>\n",
       "      <td>1</td>\n",
       "    </tr>\n",
       "    <tr>\n",
       "      <th>1</th>\n",
       "      <td>EUN1_2910807891_jungle</td>\n",
       "      <td>Shaco</td>\n",
       "      <td>Nidalee</td>\n",
       "      <td>1</td>\n",
       "    </tr>\n",
       "    <tr>\n",
       "      <th>2</th>\n",
       "      <td>EUN1_2909987530_top</td>\n",
       "      <td>Riven</td>\n",
       "      <td>Sett</td>\n",
       "      <td>0</td>\n",
       "    </tr>\n",
       "    <tr>\n",
       "      <th>3</th>\n",
       "      <td>EUN1_2909987530_middle</td>\n",
       "      <td>Lissandra</td>\n",
       "      <td>Kassadin</td>\n",
       "      <td>0</td>\n",
       "    </tr>\n",
       "    <tr>\n",
       "      <th>4</th>\n",
       "      <td>EUN1_2909987530_bottom</td>\n",
       "      <td>Ashe</td>\n",
       "      <td>Ezreal</td>\n",
       "      <td>0</td>\n",
       "    </tr>\n",
       "  </tbody>\n",
       "</table>\n",
       "</div>"
      ],
      "text/plain": [
       "                  match_id     champ1    champ2  win\n",
       "0  EUN1_2910807891_utility     Velkoz     Yuumi    1\n",
       "1   EUN1_2910807891_jungle      Shaco   Nidalee    1\n",
       "2      EUN1_2909987530_top      Riven      Sett    0\n",
       "3   EUN1_2909987530_middle  Lissandra  Kassadin    0\n",
       "4   EUN1_2909987530_bottom       Ashe    Ezreal    0"
      ]
     },
     "execution_count": 249,
     "metadata": {},
     "output_type": "execute_result"
    }
   ],
   "source": [
    "df.head(5)"
   ]
  },
  {
   "cell_type": "code",
   "execution_count": 250,
   "metadata": {},
   "outputs": [],
   "source": [
    "# Drop match_id column\n",
    "df = df.drop(['match_id'], axis=1)"
   ]
  },
  {
   "cell_type": "code",
   "execution_count": 251,
   "metadata": {},
   "outputs": [
    {
     "data": {
      "text/html": [
       "<div>\n",
       "<style scoped>\n",
       "    .dataframe tbody tr th:only-of-type {\n",
       "        vertical-align: middle;\n",
       "    }\n",
       "\n",
       "    .dataframe tbody tr th {\n",
       "        vertical-align: top;\n",
       "    }\n",
       "\n",
       "    .dataframe thead th {\n",
       "        text-align: right;\n",
       "    }\n",
       "</style>\n",
       "<table border=\"1\" class=\"dataframe\">\n",
       "  <thead>\n",
       "    <tr style=\"text-align: right;\">\n",
       "      <th></th>\n",
       "      <th>champ1</th>\n",
       "      <th>champ2</th>\n",
       "      <th>win</th>\n",
       "    </tr>\n",
       "  </thead>\n",
       "  <tbody>\n",
       "    <tr>\n",
       "      <th>0</th>\n",
       "      <td>Velkoz</td>\n",
       "      <td>Yuumi</td>\n",
       "      <td>1</td>\n",
       "    </tr>\n",
       "    <tr>\n",
       "      <th>1</th>\n",
       "      <td>Shaco</td>\n",
       "      <td>Nidalee</td>\n",
       "      <td>1</td>\n",
       "    </tr>\n",
       "    <tr>\n",
       "      <th>2</th>\n",
       "      <td>Riven</td>\n",
       "      <td>Sett</td>\n",
       "      <td>0</td>\n",
       "    </tr>\n",
       "    <tr>\n",
       "      <th>3</th>\n",
       "      <td>Lissandra</td>\n",
       "      <td>Kassadin</td>\n",
       "      <td>0</td>\n",
       "    </tr>\n",
       "    <tr>\n",
       "      <th>4</th>\n",
       "      <td>Ashe</td>\n",
       "      <td>Ezreal</td>\n",
       "      <td>0</td>\n",
       "    </tr>\n",
       "  </tbody>\n",
       "</table>\n",
       "</div>"
      ],
      "text/plain": [
       "      champ1    champ2  win\n",
       "0     Velkoz     Yuumi    1\n",
       "1      Shaco   Nidalee    1\n",
       "2      Riven      Sett    0\n",
       "3  Lissandra  Kassadin    0\n",
       "4       Ashe    Ezreal    0"
      ]
     },
     "execution_count": 251,
     "metadata": {},
     "output_type": "execute_result"
    }
   ],
   "source": [
    "df.head(5)"
   ]
  },
  {
   "cell_type": "code",
   "execution_count": 252,
   "metadata": {
    "execution": {
     "iopub.execute_input": "2021-09-26T01:49:59.527019Z",
     "iopub.status.busy": "2021-09-26T01:49:59.526560Z",
     "iopub.status.idle": "2021-09-26T01:50:00.916038Z",
     "shell.execute_reply": "2021-09-26T01:50:00.915010Z",
     "shell.execute_reply.started": "2021-09-26T01:49:59.526980Z"
    }
   },
   "outputs": [],
   "source": [
    "train_dataset = df.sample(frac=0.8, random_state=0) # 80-20 train-test splitting.\n",
    "test_dataset = df.drop(train_dataset.index) # drop all rows present in the train dataset."
   ]
  },
  {
   "cell_type": "code",
   "execution_count": 253,
   "metadata": {
    "execution": {
     "iopub.execute_input": "2021-09-26T01:50:00.918863Z",
     "iopub.status.busy": "2021-09-26T01:50:00.918205Z",
     "iopub.status.idle": "2021-09-26T01:50:00.937257Z",
     "shell.execute_reply": "2021-09-26T01:50:00.935966Z",
     "shell.execute_reply.started": "2021-09-26T01:50:00.918809Z"
    }
   },
   "outputs": [
    {
     "data": {
      "text/html": [
       "<div>\n",
       "<style scoped>\n",
       "    .dataframe tbody tr th:only-of-type {\n",
       "        vertical-align: middle;\n",
       "    }\n",
       "\n",
       "    .dataframe tbody tr th {\n",
       "        vertical-align: top;\n",
       "    }\n",
       "\n",
       "    .dataframe thead th {\n",
       "        text-align: right;\n",
       "    }\n",
       "</style>\n",
       "<table border=\"1\" class=\"dataframe\">\n",
       "  <thead>\n",
       "    <tr style=\"text-align: right;\">\n",
       "      <th></th>\n",
       "      <th>champ1</th>\n",
       "      <th>champ2</th>\n",
       "      <th>win</th>\n",
       "    </tr>\n",
       "  </thead>\n",
       "  <tbody>\n",
       "    <tr>\n",
       "      <th>0</th>\n",
       "      <td>Velkoz</td>\n",
       "      <td>Yuumi</td>\n",
       "      <td>1</td>\n",
       "    </tr>\n",
       "    <tr>\n",
       "      <th>1</th>\n",
       "      <td>Shaco</td>\n",
       "      <td>Nidalee</td>\n",
       "      <td>1</td>\n",
       "    </tr>\n",
       "    <tr>\n",
       "      <th>2</th>\n",
       "      <td>Riven</td>\n",
       "      <td>Sett</td>\n",
       "      <td>0</td>\n",
       "    </tr>\n",
       "    <tr>\n",
       "      <th>3</th>\n",
       "      <td>Lissandra</td>\n",
       "      <td>Kassadin</td>\n",
       "      <td>0</td>\n",
       "    </tr>\n",
       "    <tr>\n",
       "      <th>4</th>\n",
       "      <td>Ashe</td>\n",
       "      <td>Ezreal</td>\n",
       "      <td>0</td>\n",
       "    </tr>\n",
       "  </tbody>\n",
       "</table>\n",
       "</div>"
      ],
      "text/plain": [
       "      champ1    champ2  win\n",
       "0     Velkoz     Yuumi    1\n",
       "1      Shaco   Nidalee    1\n",
       "2      Riven      Sett    0\n",
       "3  Lissandra  Kassadin    0\n",
       "4       Ashe    Ezreal    0"
      ]
     },
     "execution_count": 253,
     "metadata": {},
     "output_type": "execute_result"
    }
   ],
   "source": [
    "# Let's look at the shape of our dataset after removing and modifying column values.\n",
    "df.head(5)"
   ]
  },
  {
   "cell_type": "code",
   "execution_count": 254,
   "metadata": {
    "execution": {
     "iopub.execute_input": "2021-09-26T01:50:00.939405Z",
     "iopub.status.busy": "2021-09-26T01:50:00.939080Z",
     "iopub.status.idle": "2021-09-26T01:50:01.025771Z",
     "shell.execute_reply": "2021-09-26T01:50:01.024634Z",
     "shell.execute_reply.started": "2021-09-26T01:50:00.939364Z"
    }
   },
   "outputs": [],
   "source": [
    "# Splitting features (what we use to predict) from labels (what we want to predict)\n",
    "# We want to predict the 'win' variable.\n",
    "# The rest of variables will be inputs.\n",
    "\n",
    "train_features = train_dataset.copy()\n",
    "test_features = test_dataset.copy()\n",
    "\n",
    "train_labels = train_features.pop('win') # returns column 'win'\n",
    "test_labels = test_features.pop('win') # returns column 'win'"
   ]
  },
  {
   "cell_type": "code",
   "execution_count": 255,
   "metadata": {},
   "outputs": [],
   "source": [
    "le = LabelEncoder()\n",
    "\n",
    "le = le.fit(champ_list) # fit the label encoder with the whole champion list.\n",
    "#le.classes_\n",
    "\n",
    "train_features = train_features.apply(lambda x: le.transform(x))\n",
    "test_features = test_features.apply(lambda x: le.transform(x))"
   ]
  },
  {
   "cell_type": "code",
   "execution_count": 256,
   "metadata": {
    "execution": {
     "iopub.execute_input": "2021-09-26T01:50:01.027883Z",
     "iopub.status.busy": "2021-09-26T01:50:01.027520Z",
     "iopub.status.idle": "2021-09-26T01:50:04.415459Z",
     "shell.execute_reply": "2021-09-26T01:50:04.414358Z",
     "shell.execute_reply.started": "2021-09-26T01:50:01.027832Z"
    }
   },
   "outputs": [],
   "source": [
    "# Normalization\n",
    "scaler = StandardScaler()\n",
    "train_features = scaler.fit_transform(train_features)\n",
    "test_features = scaler.transform(test_features)"
   ]
  },
  {
   "cell_type": "code",
   "execution_count": 257,
   "metadata": {},
   "outputs": [
    {
     "name": "stdout",
     "output_type": "stream",
     "text": [
      "Accuracy of Logistic regression classifier on training set: 0.51\n",
      "Accuracy of Logistic regression classifier on test set: 0.51\n"
     ]
    }
   ],
   "source": [
    "logreg = LogisticRegression()\n",
    "logreg.fit(train_features, train_labels)\n",
    "print('Accuracy of Logistic regression classifier on training set: {:.2f}'\n",
    "     .format(logreg.score(train_features, train_labels)))\n",
    "print('Accuracy of Logistic regression classifier on test set: {:.2f}'\n",
    "     .format(logreg.score(test_features, test_labels)))"
   ]
  },
  {
   "cell_type": "code",
   "execution_count": 258,
   "metadata": {},
   "outputs": [
    {
     "data": {
      "text/plain": [
       "array([0, 0, 0, ..., 0, 0, 0], dtype=int64)"
      ]
     },
     "execution_count": 258,
     "metadata": {},
     "output_type": "execute_result"
    }
   ],
   "source": [
    "logreg.predict(test_features)"
   ]
  },
  {
   "cell_type": "code",
   "execution_count": 260,
   "metadata": {},
   "outputs": [],
   "source": [
    "new_data = {\n",
    "    'champ1': ['Xayah', 'Karma', 'Xerath', 'Gragas', 'Chogath'],\n",
    "    'champ2': ['Tristana', 'Lulu', 'Syndra', 'Sejuani', 'Gnar']\n",
    "}\n",
    "new_df = pd.DataFrame(new_data)"
   ]
  },
  {
   "cell_type": "code",
   "execution_count": 261,
   "metadata": {},
   "outputs": [],
   "source": [
    "#le.transform(new_df['champ1'])\n",
    "\n",
    "new_df = new_df.apply(lambda x: le.transform(x))"
   ]
  },
  {
   "cell_type": "code",
   "execution_count": 262,
   "metadata": {},
   "outputs": [
    {
     "data": {
      "text/html": [
       "<div>\n",
       "<style scoped>\n",
       "    .dataframe tbody tr th:only-of-type {\n",
       "        vertical-align: middle;\n",
       "    }\n",
       "\n",
       "    .dataframe tbody tr th {\n",
       "        vertical-align: top;\n",
       "    }\n",
       "\n",
       "    .dataframe thead th {\n",
       "        text-align: right;\n",
       "    }\n",
       "</style>\n",
       "<table border=\"1\" class=\"dataframe\">\n",
       "  <thead>\n",
       "    <tr style=\"text-align: right;\">\n",
       "      <th></th>\n",
       "      <th>champ1</th>\n",
       "      <th>champ2</th>\n",
       "    </tr>\n",
       "  </thead>\n",
       "  <tbody>\n",
       "    <tr>\n",
       "      <th>0</th>\n",
       "      <td>143</td>\n",
       "      <td>126</td>\n",
       "    </tr>\n",
       "    <tr>\n",
       "      <th>1</th>\n",
       "      <td>52</td>\n",
       "      <td>69</td>\n",
       "    </tr>\n",
       "    <tr>\n",
       "      <th>2</th>\n",
       "      <td>144</td>\n",
       "      <td>119</td>\n",
       "    </tr>\n",
       "    <tr>\n",
       "      <th>3</th>\n",
       "      <td>36</td>\n",
       "      <td>104</td>\n",
       "    </tr>\n",
       "    <tr>\n",
       "      <th>4</th>\n",
       "      <td>19</td>\n",
       "      <td>35</td>\n",
       "    </tr>\n",
       "  </tbody>\n",
       "</table>\n",
       "</div>"
      ],
      "text/plain": [
       "   champ1  champ2\n",
       "0     143     126\n",
       "1      52      69\n",
       "2     144     119\n",
       "3      36     104\n",
       "4      19      35"
      ]
     },
     "execution_count": 262,
     "metadata": {},
     "output_type": "execute_result"
    }
   ],
   "source": [
    "new_df.tail(5)"
   ]
  },
  {
   "cell_type": "code",
   "execution_count": 265,
   "metadata": {},
   "outputs": [
    {
     "name": "stdout",
     "output_type": "stream",
     "text": [
      "[0 0 0 0 0]\n"
     ]
    }
   ],
   "source": [
    "result = logreg.predict(new_df)\n",
    "print(result)"
   ]
  },
  {
   "cell_type": "code",
   "execution_count": 266,
   "metadata": {},
   "outputs": [],
   "source": [
    "inverse_prediction = new_df.apply(lambda x: le.inverse_transform(x))"
   ]
  },
  {
   "cell_type": "code",
   "execution_count": 268,
   "metadata": {},
   "outputs": [],
   "source": [
    "def find_winner(lst):\n",
    "    return max(set(lst), key=lst.count)"
   ]
  },
  {
   "cell_type": "code",
   "execution_count": 269,
   "metadata": {},
   "outputs": [],
   "source": [
    "winner_prediction = find_winner(result.tolist())"
   ]
  },
  {
   "cell_type": "code",
   "execution_count": 270,
   "metadata": {},
   "outputs": [
    {
     "name": "stdout",
     "output_type": "stream",
     "text": [
      "Predicted winner is team 2: \n",
      "0    Tristana\n",
      "1        Lulu\n",
      "2      Syndra\n",
      "3     Sejuani\n",
      "4        Gnar\n",
      "Name: champ2, dtype: object\n"
     ]
    }
   ],
   "source": [
    "if winner_prediction == 1:\n",
    "    print('Predicted winner is team 1: \\n{}'.format(str(inverse_prediction['champ1'])))\n",
    "else:\n",
    "     print('Predicted winner is team 2: \\n{}'.format(str(inverse_prediction['champ2'])))\n"
   ]
  }
 ],
 "metadata": {
  "interpreter": {
   "hash": "a3915591bf7bdda55772125319070312788a6011de1744c4574eb87cf103f23a"
  },
  "kernelspec": {
   "display_name": "Python 3.8.8 64-bit ('base': conda)",
   "name": "python3"
  },
  "language_info": {
   "codemirror_mode": {
    "name": "ipython",
    "version": 3
   },
   "file_extension": ".py",
   "mimetype": "text/x-python",
   "name": "python",
   "nbconvert_exporter": "python",
   "pygments_lexer": "ipython3",
   "version": "3.8.8"
  }
 },
 "nbformat": 4,
 "nbformat_minor": 4
}
