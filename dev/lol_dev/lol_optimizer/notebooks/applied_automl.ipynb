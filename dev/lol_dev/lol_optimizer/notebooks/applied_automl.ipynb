{
 "cells": [
  {
   "cell_type": "markdown",
   "id": "a02cb593",
   "metadata": {},
   "source": [
    "# Neural Networks and League of Legends\n",
    "\n",
    "In this notebook, we take a look at League of Legends datasets and how to use them together with Auto Machine Learning (AutoML) tools. Source code and additional resources are available at https://github.com/oracle-devrel/leagueoflegends-optimizer/tree/livelabs\n",
    "\n",
    "\n",
    "This notebook creates several AutoML fine-tuned models, to make predictions based on pre-existing data (extracted using _`leagueoflegends-optimizer)`_."
   ]
  },
  {
   "cell_type": "markdown",
   "id": "235c58b6",
   "metadata": {},
   "source": [
    "## 1. Offline DataSet\n",
    "\n",
    "Firstly, we'll explore the offline dataset that can be inferred from the _`https://REGION.api.riotgames.com/lol/match/v5/matches/ID`_ endpoint\n",
    "    \n",
    "Downloading data from professional games, we built the dataset contained within _`matchups.json`_. \n",
    "    \n",
    "For each match, we have 5 matchups (5 players play against each other in different roles and different places in the map), just like this one:\n",
    "    \n",
    "![](https://github.com/oracle-devrel/leagueoflegends-optimizer/raw/livelabs/hols/nn/model_building/images/matchups.png)"
   ]
  },
  {
   "cell_type": "code",
   "execution_count": null,
   "id": "2b065fa6",
   "metadata": {},
   "outputs": [],
   "source": [
    "from pandas_profiling import ProfileReport\n",
    "from autogluon.tabular import TabularPredictor, TabularDataset\n",
    "import pandas as pd\n",
    "import json"
   ]
  },
  {
   "cell_type": "code",
   "execution_count": null,
   "id": "2b8aa2f3",
   "metadata": {},
   "outputs": [],
   "source": [
    "# Read the dataset from local file\n",
    "df = pd.read_json('/Users/mattgunnin/Sites/AI/20_GPT/gpt_lolcoach/data/lol/export.json', orient='records')"
   ]
  },
  {
   "cell_type": "code",
   "execution_count": null,
   "id": "bad775f8",
   "metadata": {},
   "outputs": [],
   "source": [
    "# HTML report for Exploratory Data Analysis\n",
    "report = ProfileReport(df, title=\"Matchups Exploration\", html={'style': {'full_width': True}})\n",
    "\n",
    "report.to_notebook_iframe()\n",
    "\n",
    "# more information about ProfileReport can be found here: https://pypi.org/project/pandas-profiling/\n",
    "\n",
    "# profile.to_file(\"your_report.html\")"
   ]
  },
  {
   "cell_type": "code",
   "execution_count": null,
   "id": "18d1b29d",
   "metadata": {},
   "outputs": [],
   "source": [
    "# Display 5 first rows\n",
    "df.head(5)"
   ]
  },
  {
   "cell_type": "code",
   "execution_count": null,
   "id": "107559d4",
   "metadata": {},
   "outputs": [],
   "source": [
    "# Display list of columns in the dataset\n",
    "df.columns"
   ]
  },
  {
   "cell_type": "code",
   "execution_count": null,
   "id": "15301299",
   "metadata": {},
   "outputs": [],
   "source": [
    "# Get some stats from pandas (also findable in the AutoGluon HTML report)\n",
    "df.describe()"
   ]
  },
  {
   "cell_type": "code",
   "execution_count": null,
   "id": "2a753fef",
   "metadata": {},
   "outputs": [],
   "source": [
    "# Display the first row\n",
    "df.iloc[0]"
   ]
  },
  {
   "cell_type": "code",
   "execution_count": null,
   "id": "e3996953",
   "metadata": {},
   "outputs": [],
   "source": [
    "# drop columns we don't want (identifiers)\n",
    "# We remove these variables as we can't infer anything useful from ID columns in this case\n",
    "def _drop_column(df, col_name=list()):\n",
    "    for x in col_name:\n",
    "        try:\n",
    "            df.drop([x],\n",
    "                axis=1,\n",
    "                inplace=True) # inplace=True changes the value by reference.\n",
    "        except KeyError:\n",
    "            print('{} already dropped from df'.format(x))\n",
    "        \n",
    "\n",
    "    return df\n",
    "\n",
    "\n",
    "\n",
    "df = _drop_column(df,\n",
    "    col_name=['summonername', 'p_match_id','puuid'])"
   ]
  },
  {
   "cell_type": "code",
   "execution_count": null,
   "id": "792a4dbf",
   "metadata": {},
   "outputs": [],
   "source": [
    "# Perform 80-20% train-test split\n",
    "train = df.sample(frac=0.8,random_state=200) #random state is a seed value\n",
    "test = df.drop(train.index)"
   ]
  },
  {
   "cell_type": "code",
   "execution_count": null,
   "id": "1e5bc64d",
   "metadata": {},
   "outputs": [],
   "source": [
    "# New look at the data\n",
    "df.iloc[0]"
   ]
  },
  {
   "cell_type": "code",
   "execution_count": null,
   "id": "0be641b7",
   "metadata": {},
   "outputs": [],
   "source": [
    "# Create AutoGluon Tabular Dataset \n",
    "# https://auto.gluon.ai/stable/tutorials/tabular_prediction/index.html\n",
    "df = TabularDataset(df)"
   ]
  },
  {
   "cell_type": "code",
   "execution_count": null,
   "id": "0bcfd2e9",
   "metadata": {
    "scrolled": true
   },
   "outputs": [],
   "source": [
    "# Determine the label in our TabularDataset we want to predict\n",
    "label = 'win'\n",
    "\n",
    "\n",
    "# Create the tabular predictor with the target label by passing the training test\n",
    "predictor = TabularPredictor(label=label,\n",
    "                path='./autogluon_trained_models_liveclient_classifier').fit(train, time_limit=60)"
   ]
  },
  {
   "cell_type": "code",
   "execution_count": null,
   "id": "7fcf883e",
   "metadata": {},
   "outputs": [],
   "source": [
    "# We load the model \n",
    "predictor = TabularPredictor.load('./autogluon_trained_models_liveclient_classifier')"
   ]
  },
  {
   "cell_type": "code",
   "execution_count": null,
   "id": "52796cfd",
   "metadata": {},
   "outputs": [],
   "source": [
    "# Make a test prediction from original test dataset\n",
    "y_test = test[label] # we want 'win' column to be predicted\n",
    "\n",
    "\n",
    "test_data_nolabel = test.drop(columns=[label])  # delete label column, also drop identifier column\n",
    "# We have the testing dataset ready\n",
    "test_data_nolabel.head(5)"
   ]
  },
  {
   "cell_type": "code",
   "execution_count": null,
   "id": "ecfd3365",
   "metadata": {},
   "outputs": [],
   "source": [
    "# Predict test values\n",
    "y_pred = predictor.predict(test_data_nolabel)\n",
    "print(\"Predictions:  \\n\", y_pred)\n",
    "\n",
    "# Evaluate prediction performance\n",
    "perf = predictor.evaluate_predictions(y_true=y_test, y_pred=y_pred, auxiliary_metrics=True)"
   ]
  },
  {
   "cell_type": "code",
   "execution_count": null,
   "id": "0b7e3e2e",
   "metadata": {},
   "outputs": [],
   "source": [
    "# Best performing models\n",
    "predictor.leaderboard(test, silent=False)"
   ]
  },
  {
   "cell_type": "code",
   "execution_count": null,
   "id": "bc4a881b",
   "metadata": {},
   "outputs": [],
   "source": [
    "# For the best model, display feature importance\n",
    "predictor.feature_importance(test,\n",
    "                            subsample_size=5000)"
   ]
  },
  {
   "cell_type": "code",
   "execution_count": null,
   "id": "1276e193",
   "metadata": {},
   "outputs": [],
   "source": [
    "# Making predictions from incoming data\n",
    "# goldearned, totalminionskilled, win, kills, assists, deaths, champion, visionscore, totaldamagedealttochampions, gameversion\n",
    "# [5506, 134, false, 0, 1, 3, Jayce, 7, 2350, 11.15.389.2308]\n",
    "data = [5506, 134, 0, 1, 3, 'Jayce', 7, 2350, '11.15.389.2308']\n",
    "\n",
    "# From a list, load it into a dataframe and specify column names for consistency\n",
    "test_d = pd.DataFrame([data], columns=['goldearned', 'totalminionskilled', 'kills', 'assists', 'deaths',\n",
    "                                       'champion', 'visionscore', 'totaldamagedealttochampions', 'gameversion'])"
   ]
  },
  {
   "cell_type": "code",
   "execution_count": null,
   "id": "4c4b06be",
   "metadata": {},
   "outputs": [],
   "source": [
    "#data = [91, 35, 0, 1080321, 2204, 390, 225, 0, 10, 0, 672, 0, 220, 0, 94, 0, 1047, 33]\n",
    "#test_d = pd.DataFrame([data], columns=['magicResist', 'healthRegenRate', 'spellVamp', 'timestamp', 'maxHealth', 'moveSpeed', 'attackDamage', 'armorPenetrationPercent', 'lifesteal', 'abilityPower', 'resourceValue', 'magicPenetrationFlat', 'attackSpeed', 'currentHealth', 'armor', 'magicPenetrationPercent', 'resourceMax', 'resourceRegenRate'])"
   ]
  },
  {
   "cell_type": "code",
   "execution_count": null,
   "id": "4e47f30a",
   "metadata": {},
   "outputs": [],
   "source": [
    "# Make prediction\n",
    "predictor.predict(test_d)\n",
    "\n",
    "# Print how probable each class is\n",
    "print(predictor.predict_proba(test_d).iloc[0])"
   ]
  },
  {
   "cell_type": "markdown",
   "id": "330d3057",
   "metadata": {},
   "source": [
    "## Exploring Live Client DataSet + Data Points\n",
    "\n",
    "In this second part of the notebook, we're going to focus on data that can be obtained from League of Legends **in real time**. Our data structure will be different, but it will help us create a \"live companion\" integration to help us while we're playing the game.\n",
    "\n",
    "This dataset (_`live_client_dataset.csv`_) uses [this function](https://github.com/oracle-devrel/leagueoflegends-optimizer/blob/livelabs/src/league.py#L487) to download previous professional matches' timelines, with all kinds of events, and extracts. The Riot Games API endpoint used is _`https://MATCHID.api.riotgames.com/lol/match/v5/matches/REGION/timeline`_.\n",
    " \n",
    "![](https://github.com/oracle-devrel/leagueoflegends-optimizer/blob/livelabs/hols/nn/model_building/images/liveclient.png?raw=True)"
   ]
  },
  {
   "cell_type": "code",
   "execution_count": null,
   "id": "c19d501a",
   "metadata": {},
   "outputs": [],
   "source": [
    "# Imports\n",
    "\n",
    "from pandas_profiling import ProfileReport\n",
    "from autogluon.tabular import TabularPredictor, TabularDataset\n",
    "import pandas as pd # data processing, CSV file I/O (e.g. pd.read_csv)\n",
    "import json"
   ]
  },
  {
   "cell_type": "code",
   "execution_count": null,
   "id": "883e4742",
   "metadata": {},
   "outputs": [],
   "source": [
    "# Read the dataset from local file\n",
    "df = pd.read_csv('/home/datascience/datasets/matchups_livelabs.csv', engine='python')"
   ]
  },
  {
   "cell_type": "code",
   "execution_count": null,
   "id": "b41b7173",
   "metadata": {},
   "outputs": [],
   "source": [
    "# HTML report for Exploratory Data Analysis\n",
    "report = ProfileReport(df, title=\"Matchups (LiveLabs Format) Exploration\", html={'style': {'full_width': True}})\n",
    "\n",
    "report.to_notebook_iframe()"
   ]
  },
  {
   "cell_type": "code",
   "execution_count": null,
   "id": "d7747b36",
   "metadata": {},
   "outputs": [],
   "source": [
    "# Display 5 first rows\n",
    "df.head(5)"
   ]
  },
  {
   "cell_type": "code",
   "execution_count": null,
   "id": "32803505",
   "metadata": {},
   "outputs": [],
   "source": [
    "# Display list of columns in the dataset\n",
    "df.columns"
   ]
  },
  {
   "cell_type": "code",
   "execution_count": null,
   "id": "16f174b8",
   "metadata": {},
   "outputs": [],
   "source": [
    "# Get some stats from pandas (also findable in the AutoGluon HTML report)\n",
    "df.describe()"
   ]
  },
  {
   "cell_type": "code",
   "execution_count": null,
   "id": "79d8a8ec",
   "metadata": {},
   "outputs": [],
   "source": [
    "df.iloc[0]"
   ]
  },
  {
   "cell_type": "code",
   "execution_count": null,
   "id": "d8dcf3c4",
   "metadata": {},
   "outputs": [],
   "source": [
    "\"\"\"\n",
    "BONUSARMORPENETRATIONPERCENT has constant value \"0\" \tConstant\n",
    "BONUSMAGICPENETRATIONPERCENT has constant value \"0\" \tConstant\n",
    "COOLDOWNREDUCTION has constant value \"0\" \tConstant\n",
    "ARMORPENETRATIONFLAT has constant value \"0\" \tConstant\n",
    "IDENTIFIER has a high cardinality: 34990 distinct values \n",
    "\"\"\"\n",
    "\n",
    "\n",
    "# drop columns we don't want (identifiers + constant columns)\n",
    "df = _drop_column(df, col_name=['BONUSARMORPENETRATIONPERCENT', 'BONUSMAGICPENETRATIONPERCENT', 'COOLDOWNREDUCTION',\n",
    "    'ARMORPENETRATIONFLAT', 'IDENTIFIER', 'Unnamed: 24']) # Unnamed: 24 is a null column, just remove it"
   ]
  },
  {
   "cell_type": "code",
   "execution_count": null,
   "id": "a23178ef",
   "metadata": {},
   "outputs": [],
   "source": [
    "# Perform 80-20% train-test split\n",
    "train = df.sample(frac=0.8,random_state=200)\n",
    "test = df.drop(train.index)"
   ]
  },
  {
   "cell_type": "code",
   "execution_count": null,
   "id": "1b39cf59",
   "metadata": {},
   "outputs": [],
   "source": [
    "# New look at the data\n",
    "df.iloc[0]"
   ]
  },
  {
   "cell_type": "code",
   "execution_count": null,
   "id": "36853a4d",
   "metadata": {},
   "outputs": [],
   "source": [
    "# Create AutoGluon Tabular Dataset \n",
    "# https://auto.gluon.ai/stable/tutorials/tabular_prediction/index.html\n",
    "df = TabularDataset(df)"
   ]
  },
  {
   "cell_type": "code",
   "execution_count": null,
   "id": "0186a052",
   "metadata": {},
   "outputs": [],
   "source": [
    "# Determine the label in our TabularDataset we want to predict\n",
    "label = 'WINNER'\n",
    "\n",
    "\n",
    "# Create the tabular predictor with the target label by passing the training test\n",
    "predictor = TabularPredictor(label=label,\n",
    "                path='./ag_hol2_livelabs').fit(train, time_limit=120)"
   ]
  },
  {
   "cell_type": "code",
   "execution_count": null,
   "id": "f50829fd",
   "metadata": {},
   "outputs": [],
   "source": [
    "# We load the model \n",
    "predictor = TabularPredictor.load('./ag_hol2_livelabs')"
   ]
  },
  {
   "cell_type": "code",
   "execution_count": null,
   "id": "8a39e40a",
   "metadata": {},
   "outputs": [],
   "source": [
    "# Best performing models\n",
    "#predictor.leaderboard(test, silent=False) # this takes a while..."
   ]
  },
  {
   "cell_type": "code",
   "execution_count": null,
   "id": "d0504176",
   "metadata": {},
   "outputs": [],
   "source": [
    "# For the best model, display feature importance\n",
    "#predictor.feature_importance(test,\n",
    "#                            subsample_size=5000) # this also takes a while depending on the subsample size"
   ]
  },
  {
   "cell_type": "code",
   "execution_count": null,
   "id": "f6cf0186",
   "metadata": {},
   "outputs": [],
   "source": [
    "# Making predictions from incoming data\n",
    "# goldearned, totalminionskilled, win, kills, assists, deaths, champion, visionscore, totaldamagedealttochampions, gameversion\n",
    "'''MAGICRESIST                    29\n",
    "HEALTHREGENRATE                17\n",
    "SPELLVAMP                       0\n",
    "TIMESTAMP                  180033\n",
    "MAXHEALTH                     714\n",
    "MOVESPEED                     345\n",
    "ATTACKDAMAGE                   65\n",
    "ARMORPENETRATIONPERCENT         0\n",
    "LIFESTEAL                       0\n",
    "ABILITYPOWER                   15\n",
    "RESOURCEVALUE                  70\n",
    "MAGICPENETRATIONFLAT            0\n",
    "ATTACKSPEED                   102\n",
    "CURRENTHEALTH                 513\n",
    "ARMOR                          42\n",
    "MAGICPENETRATIONPERCENT         0\n",
    "RESOURCEMAX                   100\n",
    "RESOURCEREGENRATE               0\n",
    "'''\n",
    "data = [29, 17, 0, 180033, 714, 345, 65, 0, 0, 15, 70, 0, 102, 513, 42, 0, 100, 0]\n",
    "\n",
    "# From a list, load it into a dataframe and specify column names for consistency\n",
    "test_d = pd.DataFrame([data], columns=['MAGICRESIST', 'HEALTHREGENRATE', 'SPELLVAMP', 'TIMESTAMP', 'MAXHEALTH',\n",
    "                                       'MOVESPEED', 'ATTACKDAMAGE', 'ARMORPENETRATIONPERCENT', 'LIFESTEAL',\n",
    "                                       'ABILITYPOWER', 'RESOURCEVALUE', 'MAGICPENETRATIONFLAT', 'ATTACKSPEED',\n",
    "                                       'CURRENTHEALTH', 'ARMOR', 'MAGICPENETRATIONPERCENT', 'RESOURCEMAX',\n",
    "                                       'RESOURCEREGENRATE'])"
   ]
  },
  {
   "cell_type": "code",
   "execution_count": null,
   "id": "56cdf99f",
   "metadata": {},
   "outputs": [],
   "source": [
    "print(test_d[:1])"
   ]
  },
  {
   "cell_type": "code",
   "execution_count": null,
   "id": "b193450a",
   "metadata": {},
   "outputs": [],
   "source": [
    "# Make prediction\n",
    "predictor.predict(test_d)\n",
    "\n",
    "# Print how probable each class is\n",
    "print(predictor.predict_proba(test_d).iloc[0])"
   ]
  }
 ],
 "metadata": {
  "kernelspec": {
   "display_name": "Python 3.9.12 ('base')",
   "language": "python",
   "name": "python3"
  },
  "language_info": {
   "codemirror_mode": {
    "name": "ipython",
    "version": 3
   },
   "file_extension": ".py",
   "mimetype": "text/x-python",
   "name": "python",
   "nbconvert_exporter": "python",
   "pygments_lexer": "ipython3",
   "version": "3.9.18"
  },
  "vscode": {
   "interpreter": {
    "hash": "425061bd4f6c1b850df5ad58d95c5de748ed72fd3c46e84bc23f876a344a0d26"
   }
  }
 },
 "nbformat": 4,
 "nbformat_minor": 5
}
