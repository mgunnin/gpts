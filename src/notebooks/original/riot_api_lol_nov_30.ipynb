{
 "cells": [
  {
   "cell_type": "markdown",
   "id": "2922b366",
   "metadata": {},
   "source": [
    "## RIOT API"
   ]
  },
  {
   "cell_type": "markdown",
   "id": "f066354d",
   "metadata": {},
   "source": [
    "Import necessary libraries"
   ]
  },
  {
   "cell_type": "code",
   "execution_count": null,
   "id": "1573fd90",
   "metadata": {},
   "outputs": [],
   "source": [
    "from fastapi import FastAPI, Request, HTTPException\n",
    "from fastapi.responses import FileResponse, Response\n",
    "from fastapi.middleware.cors import CORSMiddleware\n",
    "from pydantic import BaseModel\n",
    "from typing import List, Optional\n",
    "from openai import OpenAI\n",
    "from dotenv import load_dotenv\n",
    "import httpx\n",
    "import asyncio\n",
    "import logging\n",
    "import os\n",
    "import requests\n",
    "import pandas as pd\n",
    "import cassiopeia as cass\n",
    "\n",
    "load_dotenv()\n",
    "RIOT_API_KEY = os.getenv(\"RIOT_API_KEY\")\n",
    "if not RIOT_API_KEY:\n",
    "    raise ValueError(\"RIOT_API_KEY environment variable is not set\")\n",
    "RIOT_API_BASE_URL = \"api.riotgames.com\"\n",
    "\n",
    "app = FastAPI()"
   ]
  },
  {
   "cell_type": "markdown",
   "id": "a0aba577",
   "metadata": {},
   "source": [
    "### Dev Variables"
   ]
  },
  {
   "cell_type": "code",
   "execution_count": null,
   "id": "e0a373f9",
   "metadata": {},
   "outputs": [],
   "source": [
    "summoner_name = \"gameb0x\"\n",
    "region = \"na1\"\n",
    "mass_region = \"americas\"\n",
    "no_games = 25\n",
    "queue_id = 420"
   ]
  },
  {
   "cell_type": "markdown",
   "id": "80c404c0",
   "metadata": {},
   "source": [
    "### Prod Variables"
   ]
  },
  {
   "cell_type": "markdown",
   "id": "1d5c7ca3",
   "metadata": {},
   "source": [
    "Retrieve API Key from https://developer.riotgames.com/\\\n",
    "\n",
    "Retrieve Queue ID: https://static.developer.riotgames.com/docs/lol/queues.json\\\n",
    "\n",
    "Queue IDs:\\\n",
    "400: 5v5 Draft Pick\\\n",
    "420: 5v5 Ranked Solo\\\n",
    "430: 5v5 Blind Pick\\\n",
    "440: 5v5 Ranked Flex\\\n",
    "450: 5v5 ARAM"
   ]
  },
  {
   "cell_type": "code",
   "execution_count": null,
   "id": "f3922753",
   "metadata": {},
   "outputs": [],
   "source": [
    "summoner_name = input(\"Please enter the summoner name: \")\n",
    "print(\"Summoner Name:\", summoner_name)\n",
    "regions = [\"na1\", \"eun1\", \"euw1\", \"jp1\", \"kr\", \"br1\"]\n",
    "region = input(\n",
    "    \"Please enter the region (na1, eun1, euw1, jp1, kr, br1). Default is 'na1': \"\n",
    ")\n",
    "if region == \"\":\n",
    "    region = \"na1\"\n",
    "elif region not in regions:\n",
    "    while region not in regions:\n",
    "        region = input(\n",
    "            \"Invalid region. Please enter the region (na1, eun1, euw1, jp1, kr, br1): \"\n",
    "        )\n",
    "print(\"Region:\", region)\n",
    "mass_regions = [\"AMERICAS\", \"ASIA\", \"EUROPE\", \"SEA\"]\n",
    "mass_region = input(\n",
    "    \"Please enter the mass region (AMERICAS, ASIA, EUROPE, SEA). Default is 'AMERICAS': \"\n",
    ")\n",
    "if mass_region == \"\":\n",
    "    mass_region = \"AMERICAS\"\n",
    "elif mass_region not in mass_regions:\n",
    "    while mass_region not in mass_regions:\n",
    "        mass_region = input(\n",
    "            \"Invalid mass region. Please provide a valid MASS REGION (AMERICAS, ASIA, EUROPE, SEA): \"\n",
    "        )\n",
    "print(\"Mass Region:\", mass_region)"
   ]
  },
  {
   "cell_type": "markdown",
   "id": "944533e3",
   "metadata": {},
   "source": [
    "## Set Routes"
   ]
  },
  {
   "cell_type": "markdown",
   "id": "cc68f246",
   "metadata": {},
   "source": [
    "Riot API Route Dictionary"
   ]
  },
  {
   "cell_type": "code",
   "execution_count": null,
   "id": "ba3cda4f",
   "metadata": {},
   "outputs": [],
   "source": [
    "RIOT_API_ROUTES = {\n",
    "    \"summoner\": \"/lol/summoner/v4/summoners/by-name/{summonerName}\",\n",
    "    \"match_by_puuid\": \"/lol/match/v5/matches/by-puuid/{puuid}/ids\",\n",
    "    \"match_by_id\": \"/lol/match/v5/matches/{matchId}\",\n",
    "    \"match_timeline\": \"/lol/match/v5/matches/{matchId}/timeline\"\n",
    "}"
   ]
  },
  {
   "cell_type": "markdown",
   "id": "48b92656",
   "metadata": {},
   "source": [
    "Queue ID Route Dictionary"
   ]
  },
  {
   "cell_type": "code",
   "execution_count": null,
   "id": "74d12303",
   "metadata": {},
   "outputs": [],
   "source": [
    "QUEUE_ID_ROUTES = {\n",
    "    \"draft_pick\": 400,\n",
    "    \"ranked_solo\": 420,\n",
    "    \"blind_pick\": 430,\n",
    "    \"ranked_flex\": 440,\n",
    "    \"aram\": 450\n",
    "}"
   ]
  },
  {
   "cell_type": "markdown",
   "id": "b46555da",
   "metadata": {},
   "source": [
    "Set: RIOT_API_URL\n",
    "- Using the previously supplied variables, sets the Riot API URL"
   ]
  },
  {
   "cell_type": "code",
   "execution_count": null,
   "id": "1e178c4e",
   "metadata": {},
   "outputs": [],
   "source": [
    "route = RIOT_API_ROUTES[\"summoner\"].format(summonerName=summoner_name)\n",
    "RIOT_API_URL = f\"https://{region}.{RIOT_API_BASE_URL}{route}\"\n",
    "RIOT_API_URL"
   ]
  },
  {
   "cell_type": "markdown",
   "id": "e3b7c06b",
   "metadata": {},
   "source": [
    "Retrieve: PLAYER_INFO & Set Variables\n",
    "- Player Info Fields\n",
    "  - id, accountId, puuid, name, profileIconId, revisionDate, summonerLevel\n",
    "- Variables Set\n",
    "  - id, account_id, puuid, name, profile_icon_id, summoner_level"
   ]
  },
  {
   "cell_type": "code",
   "execution_count": null,
   "id": "5b5eb83d",
   "metadata": {
    "tags": [
     "player_info"
    ]
   },
   "outputs": [],
   "source": [
    "resp = requests.get(RIOT_API_URL, headers={\"X-Riot-Token\": RIOT_API_KEY})\n",
    "player_info = resp.json()\n",
    "id = player_info[\"id\"]\n",
    "account_id = player_info[\"accountId\"]\n",
    "puuid = player_info[\"puuid\"]\n",
    "name = player_info[\"name\"]\n",
    "profile_icon_id = player_info[\"profileIconId\"]\n",
    "summoner_level = player_info[\"summonerLevel\"]"
   ]
  },
  {
   "cell_type": "markdown",
   "id": "da8a634c",
   "metadata": {},
   "source": [
    "#### MATCH BY PUUID"
   ]
  },
  {
   "cell_type": "markdown",
   "id": "3a580bc7",
   "metadata": {},
   "source": [
    "Update: RIOT_API_URL\n",
    "- Change region to mass_region\n",
    "- Match history of the player based on puuid"
   ]
  },
  {
   "cell_type": "code",
   "execution_count": null,
   "id": "816d58e4",
   "metadata": {
    "tags": [
     "RIOT_API_URL",
     "route"
    ]
   },
   "outputs": [],
   "source": [
    "route = RIOT_API_ROUTES[\"match_by_puuid\"].format(puuid=puuid)\n",
    "RIOT_API_URL = f\"https://{mass_region}.{RIOT_API_BASE_URL}{route}\"\n",
    "RIOT_API_URL"
   ]
  },
  {
   "cell_type": "markdown",
   "id": "5daa2240",
   "metadata": {},
   "source": [
    "Set: MATCH_IDS"
   ]
  },
  {
   "cell_type": "code",
   "execution_count": null,
   "id": "eefacbca",
   "metadata": {
    "tags": [
     "match_ids"
    ]
   },
   "outputs": [],
   "source": [
    "resp = requests.get(RIOT_API_URL, headers={\"X-Riot-Token\": RIOT_API_KEY})\n",
    "match_ids = resp.json()"
   ]
  },
  {
   "cell_type": "markdown",
   "id": "9d7439fe",
   "metadata": {},
   "source": [
    "Set: RECENT_MATCH\n",
    "- Most recently played match"
   ]
  },
  {
   "cell_type": "code",
   "execution_count": null,
   "id": "60ad007f",
   "metadata": {},
   "outputs": [],
   "source": [
    "recent_match = match_ids[0]\n",
    "recent_match"
   ]
  },
  {
   "cell_type": "markdown",
   "id": "e895dc15",
   "metadata": {},
   "source": [
    "Update: RIOT_API_URL \n",
    "- Route = 'match_by_id'\n",
    "- Match details of the most recent match"
   ]
  },
  {
   "cell_type": "code",
   "execution_count": null,
   "id": "642fa051",
   "metadata": {
    "tags": [
     "RIOT_API_URL"
    ]
   },
   "outputs": [],
   "source": [
    "route = RIOT_API_ROUTES[\"match_by_id\"].format(matchId=recent_match)\n",
    "RIOT_API_URL = f\"https://{mass_region}.{RIOT_API_BASE_URL}{route}\"\n",
    "RIOT_API_URL"
   ]
  },
  {
   "cell_type": "markdown",
   "id": "db7609af",
   "metadata": {},
   "source": [
    "Retrieve: Match Data\n",
    "- From updated RIOT_API_URL with most recent match"
   ]
  },
  {
   "cell_type": "code",
   "execution_count": null,
   "id": "e37c8b91",
   "metadata": {},
   "outputs": [],
   "source": [
    "resp = requests.get(RIOT_API_URL, headers={\"X-Riot-Token\": RIOT_API_KEY})\n",
    "match_data = resp.json()\n",
    "match_data"
   ]
  },
  {
   "cell_type": "markdown",
   "id": "80656b69",
   "metadata": {},
   "source": [
    "Retrieve: MATCH_DATA --> Headlines\n",
    "- Keys = 'metadata', 'info'"
   ]
  },
  {
   "cell_type": "code",
   "execution_count": null,
   "id": "0c8e17f8",
   "metadata": {},
   "outputs": [],
   "source": [
    "match_data.keys()"
   ]
  },
  {
   "cell_type": "markdown",
   "id": "12db5188",
   "metadata": {},
   "source": [
    "Retrieve: MATCH_DATA --> METADATA\n",
    "- All Participants PUUID"
   ]
  },
  {
   "cell_type": "code",
   "execution_count": null,
   "id": "b75fdf3b",
   "metadata": {},
   "outputs": [],
   "source": [
    "match_data['metadata']"
   ]
  },
  {
   "cell_type": "markdown",
   "id": "ec48254d",
   "metadata": {},
   "source": [
    "Retrieve: MATCH_DATA\n",
    "- Dictionary Keys"
   ]
  },
  {
   "cell_type": "code",
   "execution_count": null,
   "id": "7abc0976",
   "metadata": {},
   "outputs": [],
   "source": [
    "match_data['info'].keys()"
   ]
  },
  {
   "cell_type": "markdown",
   "id": "e8d1d80b",
   "metadata": {},
   "source": [
    "Retrieve: Match Data\n",
    "- Game Duration"
   ]
  },
  {
   "cell_type": "code",
   "execution_count": null,
   "id": "4ac470d4",
   "metadata": {},
   "outputs": [],
   "source": [
    "match_data['info']['gameDuration'] / 60"
   ]
  },
  {
   "cell_type": "code",
   "execution_count": null,
   "id": "d58f2a7c",
   "metadata": {},
   "outputs": [],
   "source": [
    "player_data_00 = match_data['info']['participants'][0]\n",
    "player_data_00"
   ]
  },
  {
   "cell_type": "code",
   "execution_count": null,
   "id": "8fbb3143",
   "metadata": {},
   "outputs": [],
   "source": [
    "k = player_data_00['kills']\n",
    "d = player_data_00['deaths']\n",
    "a = player_data_00['assists']\n",
    "print(\"Kills:\", k)\n",
    "print(\"Deaths:\", d)\n",
    "print(\"Assists:\", a)\n",
    "print(\"KDA:\", (k + a) / d)"
   ]
  },
  {
   "cell_type": "markdown",
   "id": "0a33f933",
   "metadata": {},
   "source": [
    "### Our Player"
   ]
  },
  {
   "cell_type": "markdown",
   "metadata": {},
   "source": [
    "Code is incorrect below"
   ]
  },
  {
   "cell_type": "code",
   "execution_count": null,
   "metadata": {},
   "outputs": [],
   "source": [
    "def get_player_index(match_data, puuid):\n",
    "    # Get player index from match data\n",
    "    participants = match_data['metadata']['participants']\n",
    "    player_index = participants.index(puuid)\n",
    "    return player_index\n",
    "\n",
    "def get_match_data(match_id):\n",
    "    match_data = get_match(match_id)\n",
    "    return match_data\n",
    "\n",
    "def get_player_index(match_data, puuid):\n",
    "    participants = match_data['metadata']['participants']\n",
    "    player_index = participants.index(puuid)\n",
    "    return player_index\n",
    "\n",
    "def get_player_data(match_data, player_index):\n",
    "    player_data = match_data['info']['participants'][player_index]\n",
    "    return player_data\n",
    "\n",
    "def get_kda(player_data):\n",
    "    k = player_data['kills']\n",
    "    d = player_data['deaths']\n",
    "    a = player_data['assists']\n",
    "    kda = (k + a) / d\n",
    "    return kda\n",
    "\n",
    "def get_win(player_data):\n",
    "    win = player_data['win']\n",
    "    return win\n",
    "\n",
    "def get_position(player_data):\n",
    "    position = player_data['teamPosition']\n",
    "    return position\n",
    "\n",
    "def get_champion(player_data):\n",
    "    champion = player_data['championName']\n",
    "    return champion\n",
    "\n",
    "def get_summoner_name(player_data):\n",
    "    summoner_name = player_data['summonerName']\n",
    "    return summoner_name\n",
    "\n",
    "def get_game_duration(match_data):\n",
    "    game_duration = match_data['info']['gameDuration'] / 60\n",
    "    return game_duration\n",
    "\n",
    "def get_player_data(match_id, puuid):\n",
    "    match_data = get_match_data(match_id)\n",
    "    player_index = get_player_index(match_data, puuid)\n",
    "    player_data = get_player_data(match_data, player_index)\n",
    "    return player_data\n",
    "\n",
    "def get_player_stats(match_id, puuid):\n",
    "    player_data = get_player_data(match_id, puuid)\n",
    "    kda = get_kda(player_data)\n",
    "    win = get_win(player_data)\n",
    "    position = get_position(player_data)\n",
    "    champion = get_champion(player_data)\n",
    "    summoner_name = get_summoner_name(player_data)\n",
    "    game_duration = get_game_duration(match_data)\n",
    "    return kda, win, position, champion, summoner_name, game_duration\n",
    "\n",
    "kda, win, position, champion, summoner_name, game_duration = get_player_stats(match_id, puuid)"
   ]
  },
  {
   "cell_type": "markdown",
   "id": "ff8065fb",
   "metadata": {},
   "source": [
    "Update: PLAYER_INDEX\n",
    "- Locate our player in the match data using PUUID"
   ]
  },
  {
   "cell_type": "code",
   "execution_count": null,
   "id": "df845819",
   "metadata": {
    "tags": []
   },
   "outputs": [],
   "source": [
    "# List of participant puuids\n",
    "participants = match_data['metadata']['participants']\n",
    "# Find where in the data our players puuid is found\n",
    "player_index = participants.index(puuid)\n",
    "player_index\n",
    "participants[player_index]"
   ]
  },
  {
   "cell_type": "markdown",
   "id": "3986a93b",
   "metadata": {},
   "source": [
    "Retrieve: summonerName"
   ]
  },
  {
   "cell_type": "code",
   "execution_count": null,
   "id": "0dd5fdcb",
   "metadata": {},
   "outputs": [],
   "source": [
    "match_data['info']['participants'][player_index]['summonerName']"
   ]
  },
  {
   "cell_type": "markdown",
   "id": "a535d0e3",
   "metadata": {},
   "source": [
    "Set: PLAYER_DATA\n",
    "- championName, position, kills, deaths, assists, win"
   ]
  },
  {
   "cell_type": "code",
   "execution_count": null,
   "id": "e33daf79",
   "metadata": {},
   "outputs": [],
   "source": [
    "player_data = match_data['info']['participants'][player_index]\n",
    "\n",
    "champion = player_data['championName']\n",
    "position = player_data['teamPosition']\n",
    "k = player_data['kills']\n",
    "d = player_data['deaths']\n",
    "a = player_data['assists']\n",
    "kda = (k + a) / d\n",
    "win = player_data['win']\n",
    "\n",
    "print(\"Champion:\", champion, \"Kills:\", k, \"Deaths:\", d, \"Assists:\", a, \"Win:\", win)\n",
    "print(\"KDA:\", kda)"
   ]
  },
  {
   "cell_type": "markdown",
   "id": "0242df24",
   "metadata": {},
   "source": [
    "### FASTAPI"
   ]
  },
  {
   "cell_type": "markdown",
   "id": "e966d7ae",
   "metadata": {},
   "source": [
    "GET: PUUID\n",
    "- From SUMMONER_NAME"
   ]
  },
  {
   "cell_type": "code",
   "execution_count": null,
   "id": "4f5ad23e",
   "metadata": {},
   "outputs": [],
   "source": [
    "@app.get(\"/puuid/{summoner_name}\")\n",
    "async def get_puuid(summoner_name: str, region: str, RIOT_API_KEY: str):\n",
    "    RIOT_API_URL = f\"https://{region}.api.riotgames.com/lol/summoner/v4/summoners/by-name/{summoner_name}\"\n",
    "    async with httpx.AsyncClient() as client:\n",
    "        response = await client.get(RIOT_API_URL, headers={\"X-Riot-Token\": RIOT_API_KEY})\n",
    "        \n",
    "        if response.status_code != 200:\n",
    "            raise HTTPException(status_code=response.status_code, detail=response.text)\n",
    "        \n",
    "        player_info = response.json()\n",
    "\n",
    "        puuid = player_info['puuid']\n",
    "    \n",
    "    return puuid\n",
    "puuid = await get_puuid(summoner_name, region, RIOT_API_KEY)\n",
    "print(puuid)"
   ]
  },
  {
   "cell_type": "markdown",
   "id": "900ce0ce",
   "metadata": {},
   "source": [
    "GET MATCH_IDS\n",
    "- List of all the match IDs given a players puuid and mass region"
   ]
  },
  {
   "cell_type": "code",
   "execution_count": null,
   "id": "a0f1b252",
   "metadata": {},
   "outputs": [],
   "source": [
    "@app.get(\"/match_ids/{puuid}\")\n",
    "async def get_match_ids(puuid: str, mass_region: str, RIOT_API_KEY: str):\n",
    "    RIOT_API_URL = f\"https://{mass_region}.api.riotgames.com/lol/match/v5/matches/by-puuid/{puuid}/ids\"\n",
    "    async with httpx.AsyncClient() as client:\n",
    "        response = await client.get(RIOT_API_URL, headers={\"X-Riot-Token\": RIOT_API_KEY})\n",
    "        \n",
    "        if response.status_code != 200:\n",
    "            raise HTTPException(status_code=response.status_code, detail=response.text)\n",
    "        \n",
    "        match_ids = response.json()\n",
    "        # return {\"match_ids\": match_ids}\n",
    "    return match_ids\n",
    "    \n",
    "match_ids = await get_match_ids(puuid, mass_region, RIOT_API_KEY)\n",
    "print (match_ids)"
   ]
  },
  {
   "cell_type": "markdown",
   "id": "6262f0e3",
   "metadata": {},
   "source": [
    "GET: MATCH_DATA"
   ]
  },
  {
   "cell_type": "code",
   "execution_count": null,
   "id": "9eec46cb",
   "metadata": {},
   "outputs": [],
   "source": [
    "@app.get(\"/match_data/{match_id}\")\n",
    "async def get_match_data(match_id: str, mass_region: str, RIOT_API_KEY: str):\n",
    "    RIOT_API_URL = f\"https://{mass_region}.api.riotgames.com/lol/match/v5/matches/{match_id}\"\n",
    "    async with httpx.AsyncClient() as client:\n",
    "        response = await client.get(RIOT_API_URL, headers={\"X-Riot-Token\": RIOT_API_KEY})\n",
    "        \n",
    "        if response.status_code != 200:\n",
    "            raise HTTPException(status_code=response.status_code, detail=response.text)\n",
    "        \n",
    "        match_data = response.json()\n",
    "        # return {\"match_data\": match_data}\n",
    "    return match_data\n",
    "\n",
    "match_data = await get_match_data(match_ids[0], mass_region, RIOT_API_KEY)\n",
    "print(match_data)"
   ]
  },
  {
   "cell_type": "markdown",
   "id": "e4f95c80",
   "metadata": {},
   "source": [
    "Retrieve: Our Player's Data"
   ]
  },
  {
   "cell_type": "code",
   "execution_count": 33,
   "id": "5b06f4d9",
   "metadata": {},
   "outputs": [
    {
     "name": "stdout",
     "output_type": "stream",
     "text": [
      "{'allInPings': 0, 'assistMePings': 0, 'assists': 5, 'baitPings': 0, 'baronKills': 0, 'basicPings': 0, 'bountyLevel': 0, 'challenges': {'12AssistStreakCount': 0, 'abilityUses': 131, 'acesBefore15Minutes': 0, 'alliedJungleMonsterKills': 0, 'baronTakedowns': 0, 'blastConeOppositeOpponentCount': 0, 'bountyGold': 300, 'buffsStolen': 1, 'completeSupportQuestInTime': 0, 'controlWardsPlaced': 0, 'damagePerMinute': 744.8624185806431, 'damageTakenOnTeamPercentage': 0.17705760315919739, 'dancedWithRiftHerald': 0, 'deathsByEnemyChamps': 6, 'dodgeSkillShotsSmallWindow': 0, 'doubleAces': 0, 'dragonTakedowns': 2, 'earliestDragonTakedown': 1332.3352184, 'earliestElderDragon': 1720.5834390999999, 'earlyLaningPhaseGoldExpAdvantage': 0, 'effectiveHealAndShielding': 0, 'elderDragonKillsWithOpposingSoul': 0, 'elderDragonMultikills': 0, 'enemyChampionImmobilizations': 20, 'enemyJungleMonsterKills': 1, 'epicMonsterKillsNearEnemyJungler': 0, 'epicMonsterKillsWithin30SecondsOfSpawn': 0, 'epicMonsterSteals': 0, 'epicMonsterStolenWithoutSmite': 0, 'firstTurretKilled': 1, 'firstTurretKilledTime': 715.1300864, 'flawlessAces': 0, 'fullTeamTakedown': 0, 'gameLength': 1754.6839946, 'getTakedownsInAllLanesEarlyJungleAsLaner': 0, 'goldPerMinute': 458.2136825309309, 'hadOpenNexus': 0, 'immobilizeAndKillWithAlly': 5, 'initialBuffCount': 0, 'initialCrabCount': 0, 'jungleCsBefore10Minutes': 0, 'junglerTakedownsNearDamagedEpicMonster': 0, 'kTurretsDestroyedBeforePlatesFall': 0, 'kda': 2.1666666666666665, 'killAfterHiddenWithAlly': 2, 'killParticipation': 0.38235294117647056, 'killedChampTookFullTeamDamageSurvived': 0, 'killingSprees': 1, 'killsNearEnemyTurret': 1, 'killsOnOtherLanesEarlyJungleAsLaner': 0, 'killsOnRecentlyHealedByAramPack': 0, 'killsUnderOwnTurret': 1, 'killsWithHelpFromEpicMonster': 0, 'knockEnemyIntoTeamAndKill': 5, 'landSkillShotsEarlyGame': 6, 'laneMinionsFirst10Minutes': 62, 'laningPhaseGoldExpAdvantage': 0, 'legendaryCount': 0, 'lostAnInhibitor': 0, 'maxCsAdvantageOnLaneOpponent': 52, 'maxKillDeficit': 1, 'maxLevelLeadLaneOpponent': 2, 'mejaisFullStackInTime': 0, 'moreEnemyJungleThanOpponent': 0, 'multiKillOneSpell': 0, 'multiTurretRiftHeraldCount': 0, 'multikills': 2, 'multikillsAfterAggressiveFlash': 0, 'mythicItemUsed': 3124, 'outerTurretExecutesBefore10Minutes': 0, 'outnumberedKills': 0, 'outnumberedNexusKill': 0, 'perfectDragonSoulsTaken': 1, 'perfectGame': 0, 'pickKillWithAlly': 11, 'playedChampSelectPosition': 1, 'poroExplosions': 0, 'quickCleanse': 0, 'quickFirstTurret': 0, 'quickSoloKills': 0, 'riftHeraldTakedowns': 0, 'saveAllyFromDeath': 0, 'scuttleCrabKills': 0, 'skillshotsDodged': 13, 'skillshotsHit': 62, 'snowballsHit': 0, 'soloBaronKills': 0, 'soloKills': 0, 'stealthWardsPlaced': 7, 'survivedSingleDigitHpCount': 0, 'survivedThreeImmobilizesInFight': 6, 'takedownOnFirstTurret': 0, 'takedowns': 13, 'takedownsAfterGainingLevelAdvantage': 0, 'takedownsBeforeJungleMinionSpawn': 0, 'takedownsFirstXMinutes': 2, 'takedownsInAlcove': 0, 'takedownsInEnemyFountain': 0, 'teamBaronKills': 0, 'teamDamagePercentage': 0.20393802143780992, 'teamElderDragonKills': 1, 'teamRiftHeraldKills': 0, 'thirdInhibitorDestroyedTime': 1634.2754419, 'tookLargeDamageSurvived': 0, 'turretPlatesTaken': 1, 'turretTakedowns': 4, 'turretsTakenWithRiftHerald': 0, 'twentyMinionsIn3SecondsCount': 0, 'twoWardsOneSweeperCount': 0, 'unseenRecalls': 0, 'visionScoreAdvantageLaneOpponent': -0.022709906101226807, 'visionScorePerMinute': 0.47458782216136214, 'wardTakedowns': 2, 'wardTakedownsBefore20M': 0, 'wardsGuarded': 1}, 'champExperience': 13691, 'champLevel': 15, 'championId': 67, 'championName': 'Vayne', 'championTransform': 0, 'commandPings': 6, 'consumablesPurchased': 1, 'damageDealtToBuildings': 7396, 'damageDealtToObjectives': 21482, 'damageDealtToTurrets': 7396, 'damageSelfMitigated': 11382, 'dangerPings': 0, 'deaths': 6, 'detectorWardsPlaced': 0, 'doubleKills': 1, 'dragonKills': 0, 'eligibleForProgression': True, 'enemyMissingPings': 0, 'enemyVisionPings': 0, 'firstBloodAssist': False, 'firstBloodKill': False, 'firstTowerAssist': False, 'firstTowerKill': False, 'gameEndedInEarlySurrender': False, 'gameEndedInSurrender': True, 'getBackPings': 3, 'goldEarned': 13400, 'goldSpent': 12600, 'holdPings': 0, 'individualPosition': 'BOTTOM', 'inhibitorKills': 2, 'inhibitorTakedowns': 2, 'inhibitorsLost': 0, 'item0': 3091, 'item1': 6672, 'item2': 3006, 'item3': 3124, 'item4': 1043, 'item5': 1053, 'item6': 3364, 'itemsPurchased': 23, 'killingSprees': 2, 'kills': 8, 'lane': 'BOTTOM', 'largestCriticalStrike': 240, 'largestKillingSpree': 5, 'largestMultiKill': 3, 'longestTimeSpentLiving': 446, 'magicDamageDealt': 16195, 'magicDamageDealtToChampions': 3162, 'magicDamageTaken': 13292, 'missions': {'playerScore0': 0, 'playerScore1': 0, 'playerScore10': 0, 'playerScore11': 0, 'playerScore2': 0, 'playerScore3': 0, 'playerScore4': 0, 'playerScore5': 0, 'playerScore6': 0, 'playerScore7': 0, 'playerScore8': 0, 'playerScore9': 0}, 'needVisionPings': 0, 'neutralMinionsKilled': 4, 'nexusKills': 0, 'nexusLost': 0, 'nexusTakedowns': 0, 'objectivesStolen': 0, 'objectivesStolenAssists': 0, 'onMyWayPings': 2, 'participantId': 9, 'pentaKills': 0, 'perks': {'statPerks': {'defense': 5002, 'flex': 5008, 'offense': 5005}, 'styles': [{'description': 'primaryStyle', 'selections': [{'perk': 8008, 'var1': 63, 'var2': 6, 'var3': 0}, {'perk': 9111, 'var1': 885, 'var2': 260, 'var3': 0}, {'perk': 9104, 'var1': 21, 'var2': 20, 'var3': 0}, {'perk': 8014, 'var1': 717, 'var2': 0, 'var3': 0}], 'style': 8000}, {'description': 'subStyle', 'selections': [{'perk': 8139, 'var1': 725, 'var2': 0, 'var3': 0}, {'perk': 8135, 'var1': 450, 'var2': 5, 'var3': 0}], 'style': 8100}]}, 'physicalDamageDealt': 103422, 'physicalDamageDealtToChampions': 15804, 'physicalDamageTaken': 7476, 'placement': 0, 'playerAugment1': 0, 'playerAugment2': 0, 'playerAugment3': 0, 'playerAugment4': 0, 'playerScore0': 0, 'playerScore1': 0, 'playerScore10': 0, 'playerScore11': 0, 'playerScore2': 0, 'playerScore3': 0, 'playerScore4': 0, 'playerScore5': 0, 'playerScore6': 0, 'playerScore7': 0, 'playerScore8': 0, 'playerScore9': 0, 'playerSubteamId': 0, 'profileIcon': 6330, 'pushPings': 0, 'puuid': 'k_BCLNxYlH8OxUwqcHOCmHvBnGUci9cFxm2uZNgOs8vI-HcLa4BD1bBTQnPGum13wlrijcdnLH801Q', 'quadraKills': 0, 'riotIdName': '', 'riotIdTagline': '', 'role': 'CARRY', 'sightWardsBoughtInGame': 0, 'spell1Casts': 106, 'spell2Casts': 0, 'spell3Casts': 17, 'spell4Casts': 8, 'subteamPlacement': 0, 'summoner1Casts': 4, 'summoner1Id': 12, 'summoner2Casts': 4, 'summoner2Id': 4, 'summonerId': '7SKyjHwyyrKgwvMM4tQaP72Hjwb8hveVobJfmD1aydG-2TU', 'summonerLevel': 77, 'summonerName': 'gameb0x', 'teamEarlySurrendered': False, 'teamId': 200, 'teamPosition': 'BOTTOM', 'timeCCingOthers': 19, 'timePlayed': 1754, 'totalAllyJungleMinionsKilled': 0, 'totalDamageDealt': 133333, 'totalDamageDealtToChampions': 21783, 'totalDamageShieldedOnTeammates': 0, 'totalDamageTaken': 21747, 'totalEnemyJungleMinionsKilled': 4, 'totalHeal': 6046, 'totalHealsOnTeammates': 0, 'totalMinionsKilled': 177, 'totalTimeCCDealt': 167, 'totalTimeSpentDead': 157, 'totalUnitsHealed': 1, 'tripleKills': 1, 'trueDamageDealt': 13715, 'trueDamageDealtToChampions': 2816, 'trueDamageTaken': 978, 'turretKills': 4, 'turretTakedowns': 4, 'turretsLost': 4, 'unrealKills': 0, 'visionClearedPings': 0, 'visionScore': 13, 'visionWardsBoughtInGame': 0, 'wardsKilled': 2, 'wardsPlaced': 7, 'win': True}\n"
     ]
    }
   ],
   "source": [
    "@app.get(\"/player_data/{puuid}\")\n",
    "async def find_player_data(puuid: str, match_id: str, mass_region: str, RIOT_API_KEY: str):\n",
    "    RIOT_API_URL = f\"https://{mass_region}.api.riotgames.com/lol/match/v5/matches/{match_id}\"\n",
    "    async with httpx.AsyncClient() as client:\n",
    "        response = await client.get(RIOT_API_URL, headers={\"X-Riot-Token\": RIOT_API_KEY})\n",
    "        \n",
    "        if response.status_code != 200:\n",
    "            raise HTTPException(status_code=response.status_code, detail=response.text)\n",
    "        \n",
    "        match_data = response.json()\n",
    "        participants = match_data['metadata']['participants']\n",
    "        player_index = participants.index(puuid)\n",
    "        player_data = match_data['info']['participants'][player_index]\n",
    "        \n",
    "    return player_data\n",
    "\n",
    "player_data = await find_player_data(puuid, match_ids[0], mass_region, RIOT_API_KEY)\n",
    "print(player_data)"
   ]
  },
  {
   "cell_type": "code",
   "execution_count": 34,
   "id": "5d305f74",
   "metadata": {},
   "outputs": [
    {
     "data": {
      "text/plain": [
       "{'allInPings': 0,\n",
       " 'assistMePings': 0,\n",
       " 'assists': 5,\n",
       " 'baitPings': 0,\n",
       " 'baronKills': 0,\n",
       " 'basicPings': 0,\n",
       " 'bountyLevel': 0,\n",
       " 'challenges': {'12AssistStreakCount': 0,\n",
       "  'abilityUses': 131,\n",
       "  'acesBefore15Minutes': 0,\n",
       "  'alliedJungleMonsterKills': 0,\n",
       "  'baronTakedowns': 0,\n",
       "  'blastConeOppositeOpponentCount': 0,\n",
       "  'bountyGold': 300,\n",
       "  'buffsStolen': 1,\n",
       "  'completeSupportQuestInTime': 0,\n",
       "  'controlWardsPlaced': 0,\n",
       "  'damagePerMinute': 744.8624185806431,\n",
       "  'damageTakenOnTeamPercentage': 0.17705760315919739,\n",
       "  'dancedWithRiftHerald': 0,\n",
       "  'deathsByEnemyChamps': 6,\n",
       "  'dodgeSkillShotsSmallWindow': 0,\n",
       "  'doubleAces': 0,\n",
       "  'dragonTakedowns': 2,\n",
       "  'earliestDragonTakedown': 1332.3352184,\n",
       "  'earliestElderDragon': 1720.5834390999999,\n",
       "  'earlyLaningPhaseGoldExpAdvantage': 0,\n",
       "  'effectiveHealAndShielding': 0,\n",
       "  'elderDragonKillsWithOpposingSoul': 0,\n",
       "  'elderDragonMultikills': 0,\n",
       "  'enemyChampionImmobilizations': 20,\n",
       "  'enemyJungleMonsterKills': 1,\n",
       "  'epicMonsterKillsNearEnemyJungler': 0,\n",
       "  'epicMonsterKillsWithin30SecondsOfSpawn': 0,\n",
       "  'epicMonsterSteals': 0,\n",
       "  'epicMonsterStolenWithoutSmite': 0,\n",
       "  'firstTurretKilled': 1,\n",
       "  'firstTurretKilledTime': 715.1300864,\n",
       "  'flawlessAces': 0,\n",
       "  'fullTeamTakedown': 0,\n",
       "  'gameLength': 1754.6839946,\n",
       "  'getTakedownsInAllLanesEarlyJungleAsLaner': 0,\n",
       "  'goldPerMinute': 458.2136825309309,\n",
       "  'hadOpenNexus': 0,\n",
       "  'immobilizeAndKillWithAlly': 5,\n",
       "  'initialBuffCount': 0,\n",
       "  'initialCrabCount': 0,\n",
       "  'jungleCsBefore10Minutes': 0,\n",
       "  'junglerTakedownsNearDamagedEpicMonster': 0,\n",
       "  'kTurretsDestroyedBeforePlatesFall': 0,\n",
       "  'kda': 2.1666666666666665,\n",
       "  'killAfterHiddenWithAlly': 2,\n",
       "  'killParticipation': 0.38235294117647056,\n",
       "  'killedChampTookFullTeamDamageSurvived': 0,\n",
       "  'killingSprees': 1,\n",
       "  'killsNearEnemyTurret': 1,\n",
       "  'killsOnOtherLanesEarlyJungleAsLaner': 0,\n",
       "  'killsOnRecentlyHealedByAramPack': 0,\n",
       "  'killsUnderOwnTurret': 1,\n",
       "  'killsWithHelpFromEpicMonster': 0,\n",
       "  'knockEnemyIntoTeamAndKill': 5,\n",
       "  'landSkillShotsEarlyGame': 6,\n",
       "  'laneMinionsFirst10Minutes': 62,\n",
       "  'laningPhaseGoldExpAdvantage': 0,\n",
       "  'legendaryCount': 0,\n",
       "  'lostAnInhibitor': 0,\n",
       "  'maxCsAdvantageOnLaneOpponent': 52,\n",
       "  'maxKillDeficit': 1,\n",
       "  'maxLevelLeadLaneOpponent': 2,\n",
       "  'mejaisFullStackInTime': 0,\n",
       "  'moreEnemyJungleThanOpponent': 0,\n",
       "  'multiKillOneSpell': 0,\n",
       "  'multiTurretRiftHeraldCount': 0,\n",
       "  'multikills': 2,\n",
       "  'multikillsAfterAggressiveFlash': 0,\n",
       "  'mythicItemUsed': 3124,\n",
       "  'outerTurretExecutesBefore10Minutes': 0,\n",
       "  'outnumberedKills': 0,\n",
       "  'outnumberedNexusKill': 0,\n",
       "  'perfectDragonSoulsTaken': 1,\n",
       "  'perfectGame': 0,\n",
       "  'pickKillWithAlly': 11,\n",
       "  'playedChampSelectPosition': 1,\n",
       "  'poroExplosions': 0,\n",
       "  'quickCleanse': 0,\n",
       "  'quickFirstTurret': 0,\n",
       "  'quickSoloKills': 0,\n",
       "  'riftHeraldTakedowns': 0,\n",
       "  'saveAllyFromDeath': 0,\n",
       "  'scuttleCrabKills': 0,\n",
       "  'skillshotsDodged': 13,\n",
       "  'skillshotsHit': 62,\n",
       "  'snowballsHit': 0,\n",
       "  'soloBaronKills': 0,\n",
       "  'soloKills': 0,\n",
       "  'stealthWardsPlaced': 7,\n",
       "  'survivedSingleDigitHpCount': 0,\n",
       "  'survivedThreeImmobilizesInFight': 6,\n",
       "  'takedownOnFirstTurret': 0,\n",
       "  'takedowns': 13,\n",
       "  'takedownsAfterGainingLevelAdvantage': 0,\n",
       "  'takedownsBeforeJungleMinionSpawn': 0,\n",
       "  'takedownsFirstXMinutes': 2,\n",
       "  'takedownsInAlcove': 0,\n",
       "  'takedownsInEnemyFountain': 0,\n",
       "  'teamBaronKills': 0,\n",
       "  'teamDamagePercentage': 0.20393802143780992,\n",
       "  'teamElderDragonKills': 1,\n",
       "  'teamRiftHeraldKills': 0,\n",
       "  'thirdInhibitorDestroyedTime': 1634.2754419,\n",
       "  'tookLargeDamageSurvived': 0,\n",
       "  'turretPlatesTaken': 1,\n",
       "  'turretTakedowns': 4,\n",
       "  'turretsTakenWithRiftHerald': 0,\n",
       "  'twentyMinionsIn3SecondsCount': 0,\n",
       "  'twoWardsOneSweeperCount': 0,\n",
       "  'unseenRecalls': 0,\n",
       "  'visionScoreAdvantageLaneOpponent': -0.022709906101226807,\n",
       "  'visionScorePerMinute': 0.47458782216136214,\n",
       "  'wardTakedowns': 2,\n",
       "  'wardTakedownsBefore20M': 0,\n",
       "  'wardsGuarded': 1},\n",
       " 'champExperience': 13691,\n",
       " 'champLevel': 15,\n",
       " 'championId': 67,\n",
       " 'championName': 'Vayne',\n",
       " 'championTransform': 0,\n",
       " 'commandPings': 6,\n",
       " 'consumablesPurchased': 1,\n",
       " 'damageDealtToBuildings': 7396,\n",
       " 'damageDealtToObjectives': 21482,\n",
       " 'damageDealtToTurrets': 7396,\n",
       " 'damageSelfMitigated': 11382,\n",
       " 'dangerPings': 0,\n",
       " 'deaths': 6,\n",
       " 'detectorWardsPlaced': 0,\n",
       " 'doubleKills': 1,\n",
       " 'dragonKills': 0,\n",
       " 'eligibleForProgression': True,\n",
       " 'enemyMissingPings': 0,\n",
       " 'enemyVisionPings': 0,\n",
       " 'firstBloodAssist': False,\n",
       " 'firstBloodKill': False,\n",
       " 'firstTowerAssist': False,\n",
       " 'firstTowerKill': False,\n",
       " 'gameEndedInEarlySurrender': False,\n",
       " 'gameEndedInSurrender': True,\n",
       " 'getBackPings': 3,\n",
       " 'goldEarned': 13400,\n",
       " 'goldSpent': 12600,\n",
       " 'holdPings': 0,\n",
       " 'individualPosition': 'BOTTOM',\n",
       " 'inhibitorKills': 2,\n",
       " 'inhibitorTakedowns': 2,\n",
       " 'inhibitorsLost': 0,\n",
       " 'item0': 3091,\n",
       " 'item1': 6672,\n",
       " 'item2': 3006,\n",
       " 'item3': 3124,\n",
       " 'item4': 1043,\n",
       " 'item5': 1053,\n",
       " 'item6': 3364,\n",
       " 'itemsPurchased': 23,\n",
       " 'killingSprees': 2,\n",
       " 'kills': 8,\n",
       " 'lane': 'BOTTOM',\n",
       " 'largestCriticalStrike': 240,\n",
       " 'largestKillingSpree': 5,\n",
       " 'largestMultiKill': 3,\n",
       " 'longestTimeSpentLiving': 446,\n",
       " 'magicDamageDealt': 16195,\n",
       " 'magicDamageDealtToChampions': 3162,\n",
       " 'magicDamageTaken': 13292,\n",
       " 'missions': {'playerScore0': 0,\n",
       "  'playerScore1': 0,\n",
       "  'playerScore10': 0,\n",
       "  'playerScore11': 0,\n",
       "  'playerScore2': 0,\n",
       "  'playerScore3': 0,\n",
       "  'playerScore4': 0,\n",
       "  'playerScore5': 0,\n",
       "  'playerScore6': 0,\n",
       "  'playerScore7': 0,\n",
       "  'playerScore8': 0,\n",
       "  'playerScore9': 0},\n",
       " 'needVisionPings': 0,\n",
       " 'neutralMinionsKilled': 4,\n",
       " 'nexusKills': 0,\n",
       " 'nexusLost': 0,\n",
       " 'nexusTakedowns': 0,\n",
       " 'objectivesStolen': 0,\n",
       " 'objectivesStolenAssists': 0,\n",
       " 'onMyWayPings': 2,\n",
       " 'participantId': 9,\n",
       " 'pentaKills': 0,\n",
       " 'perks': {'statPerks': {'defense': 5002, 'flex': 5008, 'offense': 5005},\n",
       "  'styles': [{'description': 'primaryStyle',\n",
       "    'selections': [{'perk': 8008, 'var1': 63, 'var2': 6, 'var3': 0},\n",
       "     {'perk': 9111, 'var1': 885, 'var2': 260, 'var3': 0},\n",
       "     {'perk': 9104, 'var1': 21, 'var2': 20, 'var3': 0},\n",
       "     {'perk': 8014, 'var1': 717, 'var2': 0, 'var3': 0}],\n",
       "    'style': 8000},\n",
       "   {'description': 'subStyle',\n",
       "    'selections': [{'perk': 8139, 'var1': 725, 'var2': 0, 'var3': 0},\n",
       "     {'perk': 8135, 'var1': 450, 'var2': 5, 'var3': 0}],\n",
       "    'style': 8100}]},\n",
       " 'physicalDamageDealt': 103422,\n",
       " 'physicalDamageDealtToChampions': 15804,\n",
       " 'physicalDamageTaken': 7476,\n",
       " 'placement': 0,\n",
       " 'playerAugment1': 0,\n",
       " 'playerAugment2': 0,\n",
       " 'playerAugment3': 0,\n",
       " 'playerAugment4': 0,\n",
       " 'playerScore0': 0,\n",
       " 'playerScore1': 0,\n",
       " 'playerScore10': 0,\n",
       " 'playerScore11': 0,\n",
       " 'playerScore2': 0,\n",
       " 'playerScore3': 0,\n",
       " 'playerScore4': 0,\n",
       " 'playerScore5': 0,\n",
       " 'playerScore6': 0,\n",
       " 'playerScore7': 0,\n",
       " 'playerScore8': 0,\n",
       " 'playerScore9': 0,\n",
       " 'playerSubteamId': 0,\n",
       " 'profileIcon': 6330,\n",
       " 'pushPings': 0,\n",
       " 'puuid': 'k_BCLNxYlH8OxUwqcHOCmHvBnGUci9cFxm2uZNgOs8vI-HcLa4BD1bBTQnPGum13wlrijcdnLH801Q',\n",
       " 'quadraKills': 0,\n",
       " 'riotIdName': '',\n",
       " 'riotIdTagline': '',\n",
       " 'role': 'CARRY',\n",
       " 'sightWardsBoughtInGame': 0,\n",
       " 'spell1Casts': 106,\n",
       " 'spell2Casts': 0,\n",
       " 'spell3Casts': 17,\n",
       " 'spell4Casts': 8,\n",
       " 'subteamPlacement': 0,\n",
       " 'summoner1Casts': 4,\n",
       " 'summoner1Id': 12,\n",
       " 'summoner2Casts': 4,\n",
       " 'summoner2Id': 4,\n",
       " 'summonerId': '7SKyjHwyyrKgwvMM4tQaP72Hjwb8hveVobJfmD1aydG-2TU',\n",
       " 'summonerLevel': 77,\n",
       " 'summonerName': 'gameb0x',\n",
       " 'teamEarlySurrendered': False,\n",
       " 'teamId': 200,\n",
       " 'teamPosition': 'BOTTOM',\n",
       " 'timeCCingOthers': 19,\n",
       " 'timePlayed': 1754,\n",
       " 'totalAllyJungleMinionsKilled': 0,\n",
       " 'totalDamageDealt': 133333,\n",
       " 'totalDamageDealtToChampions': 21783,\n",
       " 'totalDamageShieldedOnTeammates': 0,\n",
       " 'totalDamageTaken': 21747,\n",
       " 'totalEnemyJungleMinionsKilled': 4,\n",
       " 'totalHeal': 6046,\n",
       " 'totalHealsOnTeammates': 0,\n",
       " 'totalMinionsKilled': 177,\n",
       " 'totalTimeCCDealt': 167,\n",
       " 'totalTimeSpentDead': 157,\n",
       " 'totalUnitsHealed': 1,\n",
       " 'tripleKills': 1,\n",
       " 'trueDamageDealt': 13715,\n",
       " 'trueDamageDealtToChampions': 2816,\n",
       " 'trueDamageTaken': 978,\n",
       " 'turretKills': 4,\n",
       " 'turretTakedowns': 4,\n",
       " 'turretsLost': 4,\n",
       " 'unrealKills': 0,\n",
       " 'visionClearedPings': 0,\n",
       " 'visionScore': 13,\n",
       " 'visionWardsBoughtInGame': 0,\n",
       " 'wardsKilled': 2,\n",
       " 'wardsPlaced': 7,\n",
       " 'win': True}"
      ]
     },
     "execution_count": 34,
     "metadata": {},
     "output_type": "execute_result"
    }
   ],
   "source": [
    "def find_player_data(match_data, puuid):\n",
    "    participants = match_data[\"metadata\"][\"participants\"]\n",
    "    player_index = participants.index(puuid)\n",
    "    player_data = match_data[\"info\"][\"participants\"][player_index]\n",
    "    return player_data\n",
    "\n",
    "\n",
    "find_player_data(match_data, puuid)"
   ]
  },
  {
   "cell_type": "markdown",
   "id": "3687fbe4",
   "metadata": {},
   "source": [
    "Store Data for Past X Games\n",
    "- Initialize Empty Dictionary\n",
    "- Loop through Match IDs\n",
    "- Retrieve Match Data\n"
   ]
  },
  {
   "cell_type": "code",
   "execution_count": null,
   "id": "a9eb9fa6",
   "metadata": {},
   "outputs": [],
   "source": [
    "# Create empty dictionary to store our data\n",
    "data = {\n",
    "    'champion': [],\n",
    "    'kills': [],\n",
    "    'deaths': [],\n",
    "    'assists': [],\n",
    "    'win': []\n",
    "}\n",
    "\n",
    "async def gather_data():\n",
    "    for match_id in match_ids:\n",
    "        print(match_id)\n",
    "        \n",
    "        # Run two functions to get the player data from the match ID\n",
    "        match_data = await get_match_data(match_id, mass_region, RIOT_API_KEY)\n",
    "        player_data = find_player_data(match_data, puuid)\n",
    "        \n",
    "        # Assist variables we want to keep track of\n",
    "        champion = player_data['championName']\n",
    "        k = player_data['kills']\n",
    "        d = player_data['deaths']\n",
    "        a = player_data['assists']\n",
    "        win = player_data['win']\n",
    "         \n",
    "        # add them to our dataset\n",
    "        data['champion'].append(champion)\n",
    "        data['kills'].append(k)\n",
    "        data['deaths'].append(d)\n",
    "        data['assists'].append(a)\n",
    "        data['win'].append(win)\n",
    "\n",
    "# Run the async function\n",
    "await gather_data()"
   ]
  },
  {
   "cell_type": "markdown",
   "id": "df2fb235",
   "metadata": {},
   "source": [
    "#### Set Variable: Data\n",
    "Retrieve data on the last 20 games for the account\n"
   ]
  },
  {
   "cell_type": "code",
   "execution_count": null,
   "id": "f0ec6678",
   "metadata": {},
   "outputs": [],
   "source": [
    "data\n",
    "\n",
    "# Convert Data Dictionary into a Dataframe\n",
    "df = pd.DataFrame(data)"
   ]
  },
  {
   "cell_type": "markdown",
   "id": "5a96fe52",
   "metadata": {},
   "source": [
    "Convert: Function to call later"
   ]
  },
  {
   "cell_type": "code",
   "execution_count": null,
   "id": "ef2f5395",
   "metadata": {},
   "outputs": [],
   "source": [
    "def gather_all_data(puuid, match_ids, mass_region, RIOT_API_KEY):\n",
    "    # We initialise an empty dictionary to store data for each game\n",
    "    data = {\"champion\": [], \"kills\": [], \"deaths\": [], \"assists\": [], \"win\": []}\n",
    "\n",
    "    for match_id in match_ids:\n",
    "        print(match_id)\n",
    "\n",
    "        # run the two functions to get the player data from the match ID\n",
    "        match_data = get_match_data(match_id, mass_region, RIOT_API_KEY)\n",
    "        if \"status\" in match_data and match_data[\"status\"][\"status_code\"] == 404:\n",
    "            print(\n",
    "                f\"Match data not found for match ID: {match_id}. Skipping this match ID.\"\n",
    "            )\n",
    "            continue\n",
    "        player_data = find_player_data(match_data, puuid)\n",
    "\n",
    "        # assign the variables we're interested in\n",
    "        champion = player_data[\"championName\"]\n",
    "        k = player_data[\"kills\"]\n",
    "        d = player_data[\"deaths\"]\n",
    "        a = player_data[\"assists\"]\n",
    "        win = player_data[\"win\"]\n",
    "\n",
    "        # add them to our dataset\n",
    "        data[\"champion\"].append(champion)\n",
    "        data[\"kills\"].append(k)\n",
    "        data[\"deaths\"].append(d)\n",
    "        data[\"assists\"].append(a)\n",
    "        data[\"win\"].append(win)\n",
    "\n",
    "    df = pd.DataFrame(data)\n",
    "\n",
    "    return df\n",
    "\n",
    "\n",
    "# Update DF\n",
    "df = gather_all_data(puuid, match_ids, mass_region, RIOT_API_KEY)"
   ]
  },
  {
   "cell_type": "markdown",
   "id": "e66845fe",
   "metadata": {},
   "source": [
    "##### Dataframe Types"
   ]
  },
  {
   "cell_type": "code",
   "execution_count": null,
   "id": "3501a7ad",
   "metadata": {},
   "outputs": [],
   "source": [
    "# Converting from outcome column from 'bool' to 'int'\n",
    "df[\"win\"] = df[\"win\"].astype(int)\n",
    "# Find the averages. 'numeric_only' prevents trying to average the \"champion\" column\n",
    "df.mean(numeric_only=True)\n",
    "# Get the averages per champion\n",
    "df.groupby(\"champion\").mean()\n",
    "# Order your games by amount of kills\n",
    "df.sort_values(\"kills\")"
   ]
  },
  {
   "cell_type": "markdown",
   "id": "b68279aa",
   "metadata": {},
   "source": [
    "### Include Arguments\n",
    "'no_games' \\\n",
    "'queue_id'"
   ]
  },
  {
   "cell_type": "code",
   "execution_count": null,
   "id": "450f5da7",
   "metadata": {},
   "outputs": [],
   "source": [
    "# Updated function where you can set which queue to take data from\n",
    "def get_match_ids(puuid, mass_region, no_games, queue_id, RIOT_API_KEY):\n",
    "    RIOT_API_URL = (\n",
    "        \"https://\" +\n",
    "        mass_region +\n",
    "        \".api.riotgames.com/lol/match/v5/matches/by-puuid/\" +\n",
    "        puuid + \n",
    "        \"/ids?start=0\" + \n",
    "        \"&count=\" +\n",
    "        str(no_games) + \n",
    "        \"&queue=\" + \n",
    "        str(queue_id) + \n",
    "        \"&api_key=\" + \n",
    "        RIOT_API_KEY\n",
    "    )\n",
    "    \n",
    "    print(RIOT_API_URL)\n",
    "    \n",
    "    resp = requests.get(RIOT_API_URL)\n",
    "    match_ids = resp.json()\n",
    "    return match_ids      "
   ]
  },
  {
   "cell_type": "markdown",
   "id": "2b47e441",
   "metadata": {},
   "source": [
    "### Wrapping All Functions Into One"
   ]
  },
  {
   "cell_type": "code",
   "execution_count": null,
   "id": "1de15df4",
   "metadata": {},
   "outputs": [],
   "source": [
    "def master_function(summoner_name, region, mass_region, no_games, queue_id, RIOT_API_KEY):\n",
    "    puuid = get_puuid(summoner_name, region, RIOT_API_KEY)\n",
    "    match_ids = get_match_ids(puuid, mass_region, no_games, queue_id, RIOT_API_KEY)\n",
    "    df = gather_all_data(puuid, match_ids, mass_region, RIOT_API_KEY)\n",
    "    return df"
   ]
  },
  {
   "cell_type": "code",
   "execution_count": null,
   "id": "84726402",
   "metadata": {
    "scrolled": true
   },
   "outputs": [],
   "source": [
    "def find_player_data(match_data, puuid):\n",
    "    participants = match_data[\"metadata\"][\"participants\"]\n",
    "    player_index = participants.index(puuid)\n",
    "    player_data = match_data[\"info\"][\"participants\"][player_index]\n",
    "    return player_data\n",
    "\n",
    "\n",
    "df = master_function(\n",
    "    summoner_name, region, mass_region, no_games, queue_id, RIOT_API_KEY\n",
    ")"
   ]
  },
  {
   "cell_type": "code",
   "execution_count": null,
   "id": "2369ece0",
   "metadata": {},
   "outputs": [],
   "source": [
    "df"
   ]
  },
  {
   "cell_type": "code",
   "execution_count": null,
   "id": "f97728f5",
   "metadata": {},
   "outputs": [],
   "source": [
    "print(\"Summoner:\", summoner_name, \"of\", region.upper()) # upper simply capitalises the region\n",
    "print(\"Here are some interesting statistics about your last\", no_games, \"solo ranked games\")\n",
    "\n",
    "# create a count column\n",
    "df['count'] = 1 \n",
    "\n",
    "# the \"agg\" allows us to get the average of every column but sum the count                                       # see?\n",
    "champ_df = df.groupby('champion').agg({'kills': 'mean', 'deaths': 'mean', 'assists': 'mean', 'win': 'mean', 'count': 'sum'})\n",
    "\n",
    "# we reset in the index so we can still use the \"champion\" column\n",
    "champ_df.reset_index(inplace=True)\n",
    "\n",
    "# we limit it to only champions where you've played 2 or more games\n",
    "champ_df = champ_df[champ_df['count'] >= 2]\n",
    "\n",
    "# create a kda column\n",
    "champ_df['kda'] = (champ_df['kills'] + champ_df['assists']) / champ_df['deaths']\n",
    "\n",
    "# sort the table by KDA, starting from the highest\n",
    "champ_df = champ_df.sort_values('kda', ascending=False) # ascending determines whether it's highest to lowest or vice-versa\n",
    "\n",
    "# assign the first row and last row to a variable so we can print information about it\n",
    "best_row = champ_df.iloc[0] # .iloc[0] simply takes the first row in dataframe\n",
    "worst_row = champ_df.iloc[-1] # .iloc[-1] takes the last row in a dataframe\n",
    "\n",
    "print(\"Your best KDA is on\", best_row['champion'], \"with a KDA of\", best_row['kda'], \"over\", best_row['count'], \"game/s\")\n",
    "print(\"Your worst KDA is on\", worst_row['champion'], \"with a KDA of\", worst_row['kda'], \"over\", worst_row['count'], \"game/s\")\n",
    "\n",
    "# sort by count instead\n",
    "champ_df = champ_df.sort_values('count', ascending=False)\n",
    "\n",
    "# get your most played champ\n",
    "row = champ_df.iloc[0]\n",
    "\n",
    "# Assign and format the win rate\n",
    "win_rate = row['win']\n",
    "win_rate = str(round(win_rate * 100, 1)) + \"%\"\n",
    "\n",
    "print(\"Your highest played Champion is\", row['champion'], \"with\", row['count'], 'game/s', \n",
    "     \"and an average Win Rate of\", win_rate)\n",
    "\n",
    "# Sort by highest kills in a game (note, not using the champ_df groupby anymore but the raw data)\n",
    "highest_kills = df.sort_values('kills', ascending=False)\n",
    "row = highest_kills.iloc[0]\n",
    "print(\"Your highest kill game was with\", row['champion'], \"where you had\", row['kills'], \"kills\")\n"
   ]
  },
  {
   "cell_type": "markdown",
   "id": "581c442a",
   "metadata": {},
   "source": [
    "## Next Steps\n",
    "- Add a new arguments to the functions. For example, you could add a \"queue\" argument to the get_match_history function, so you can choose which queue you want to get data from.\n",
    "- Create a new function to get a players Champion Mastery, add a line to our final output saying who the highest mastery champion is\n",
    "- Jump into the \"match timeline\" API and get some time specific data, like how many kills you average at 7 minutes\n",
    "- From the LEAGUE-V4 API, grab 100 players from a league of your choice. Build a loop that gathers data about all 100 players recent games. Find out what the average number of kills a player has at 15 minutes for each role.\n",
    "\n",
    "- How much Mastery a player has on each Champion\n",
    "- In-depth game detail for every minute of the game (i.e. how much Gold/XP each player has at 12 minutes)\n",
    "- In-depth objective and kill data, like who killed who, when and where\n",
    "- Ranked information, such as their current rank for each queue\n",
    "- Who is currently in Challenger, Grand Master & Master (& every queue below that too!)\n",
    "- And much more...!\n",
    "\n",
    "### Advanced Ideas\n",
    "\n",
    "- Advanced error handling, 429 Rate Limits is just one of many and each requires it's own logic\n",
    "- Speeding up your code using async/multiprocessing/threading\n",
    "\n"
   ]
  }
 ],
 "metadata": {
  "kernelspec": {
   "display_name": "Python 3 (ipykernel)",
   "language": "python",
   "name": "python3"
  },
  "language_info": {
   "codemirror_mode": {
    "name": "ipython",
    "version": 3
   },
   "file_extension": ".py",
   "mimetype": "text/x-python",
   "name": "python",
   "nbconvert_exporter": "python",
   "pygments_lexer": "ipython3",
   "version": "3.11.5"
  }
 },
 "nbformat": 4,
 "nbformat_minor": 5
}
