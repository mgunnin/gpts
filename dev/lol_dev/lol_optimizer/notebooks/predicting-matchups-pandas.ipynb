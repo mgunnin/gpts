{
 "cells": [
  {
   "cell_type": "code",
   "execution_count": null,
   "metadata": {
    "_cell_guid": "b1076dfc-b9ad-4769-8c92-a6c4dae69d19",
    "_uuid": "8f2839f25d086af736a60e9eeb907d3b93b6e0e5",
    "execution": {
     "iopub.execute_input": "2021-09-26T01:49:39.736041Z",
     "iopub.status.busy": "2021-09-26T01:49:39.735753Z",
     "iopub.status.idle": "2021-09-26T01:49:39.748650Z",
     "shell.execute_reply": "2021-09-26T01:49:39.747681Z",
     "shell.execute_reply.started": "2021-09-26T01:49:39.736010Z"
    }
   },
   "outputs": [],
   "source": [
    "!pip install seaborn matplotlib scikit-learn"
   ]
  },
  {
   "cell_type": "code",
   "execution_count": null,
   "metadata": {},
   "outputs": [],
   "source": [
    "import pandas as pd # data processing, CSV file I/O (e.g. pd.read_csv)\n",
    "pd.set_option('float_format', '{:f}'.format)\n",
    "import os\n",
    "import seaborn as sns\n",
    "import matplotlib.pyplot as plt\n",
    "%matplotlib inline\n",
    "\n",
    "from sklearn.preprocessing import LabelEncoder\n",
    "from sklearn.preprocessing import StandardScaler \n",
    "from sklearn.linear_model import LogisticRegression\n",
    "from sklearn.preprocessing import StandardScaler\n",
    "from sklearn.linear_model import LogisticRegression\n"
   ]
  },
  {
   "cell_type": "code",
   "execution_count": null,
   "metadata": {},
   "outputs": [],
   "source": [
    "print(os.environ['TNS_ADMIN'])"
   ]
  },
  {
   "cell_type": "code",
   "execution_count": null,
   "metadata": {
    "execution": {
     "iopub.execute_input": "2021-09-26T01:49:39.753681Z",
     "iopub.status.busy": "2021-09-26T01:49:39.753128Z",
     "iopub.status.idle": "2021-09-26T01:49:54.438419Z",
     "shell.execute_reply": "2021-09-26T01:49:54.437796Z",
     "shell.execute_reply.started": "2021-09-26T01:49:39.753633Z"
    }
   },
   "outputs": [],
   "source": [
    "df = pd.read_json('/Users/mattgunnin/Sites/AI/20_GPT/gpt_lolcoach/data/lol/export.json')\n",
    "\n",
    "df.head(5)"
   ]
  },
  {
   "cell_type": "code",
   "execution_count": null,
   "metadata": {},
   "outputs": [],
   "source": [
    "df['champ1'].unique() # all champion names"
   ]
  },
  {
   "cell_type": "code",
   "execution_count": null,
   "metadata": {},
   "outputs": [],
   "source": [
    "champ_list = df['champ1'].unique().tolist()\n",
    "\n",
    "print(type(champ_list))"
   ]
  },
  {
   "cell_type": "code",
   "execution_count": null,
   "metadata": {},
   "outputs": [],
   "source": [
    "print(champ_list)"
   ]
  },
  {
   "cell_type": "code",
   "execution_count": null,
   "metadata": {
    "execution": {
     "iopub.execute_input": "2021-09-26T01:49:54.440858Z",
     "iopub.status.busy": "2021-09-26T01:49:54.439992Z",
     "iopub.status.idle": "2021-09-26T01:49:54.769024Z",
     "shell.execute_reply": "2021-09-26T01:49:54.767432Z",
     "shell.execute_reply.started": "2021-09-26T01:49:54.440806Z"
    }
   },
   "outputs": [],
   "source": [
    "# Data Exploration\n",
    "df.describe().transpose()"
   ]
  },
  {
   "cell_type": "code",
   "execution_count": null,
   "metadata": {
    "execution": {
     "iopub.execute_input": "2021-09-26T01:49:54.770532Z",
     "iopub.status.busy": "2021-09-26T01:49:54.770252Z",
     "iopub.status.idle": "2021-09-26T01:49:54.777947Z",
     "shell.execute_reply": "2021-09-26T01:49:54.776288Z",
     "shell.execute_reply.started": "2021-09-26T01:49:54.770498Z"
    }
   },
   "outputs": [],
   "source": [
    "print(df.columns)"
   ]
  },
  {
   "cell_type": "code",
   "execution_count": null,
   "metadata": {
    "execution": {
     "iopub.execute_input": "2021-09-26T01:49:54.782534Z",
     "iopub.status.busy": "2021-09-26T01:49:54.781299Z",
     "iopub.status.idle": "2021-09-26T01:49:55.724517Z",
     "shell.execute_reply": "2021-09-26T01:49:55.723580Z",
     "shell.execute_reply.started": "2021-09-26T01:49:54.782448Z"
    }
   },
   "outputs": [],
   "source": [
    "df.info()"
   ]
  },
  {
   "cell_type": "code",
   "execution_count": null,
   "metadata": {
    "execution": {
     "iopub.execute_input": "2021-09-26T01:49:55.726241Z",
     "iopub.status.busy": "2021-09-26T01:49:55.725932Z",
     "iopub.status.idle": "2021-09-26T01:49:56.660656Z",
     "shell.execute_reply": "2021-09-26T01:49:56.659825Z",
     "shell.execute_reply.started": "2021-09-26T01:49:55.726200Z"
    }
   },
   "outputs": [],
   "source": [
    "# Cleaning data\n",
    "df.isna().sum()"
   ]
  },
  {
   "cell_type": "code",
   "execution_count": null,
   "metadata": {
    "execution": {
     "iopub.execute_input": "2021-09-26T01:49:56.662201Z",
     "iopub.status.busy": "2021-09-26T01:49:56.661763Z",
     "iopub.status.idle": "2021-09-26T01:49:57.882990Z",
     "shell.execute_reply": "2021-09-26T01:49:57.882114Z",
     "shell.execute_reply.started": "2021-09-26T01:49:56.662109Z"
    }
   },
   "outputs": [],
   "source": [
    "df = df.dropna() # we drop these null values and corresponding rows."
   ]
  },
  {
   "cell_type": "code",
   "execution_count": null,
   "metadata": {
    "execution": {
     "iopub.execute_input": "2021-09-26T01:49:57.884362Z",
     "iopub.status.busy": "2021-09-26T01:49:57.884118Z",
     "iopub.status.idle": "2021-09-26T01:49:57.889593Z",
     "shell.execute_reply": "2021-09-26T01:49:57.888694Z",
     "shell.execute_reply.started": "2021-09-26T01:49:57.884333Z"
    }
   },
   "outputs": [],
   "source": [
    "sns.countplot(df['champ1'], label=\"Count\")\n",
    "plt.show()"
   ]
  },
  {
   "cell_type": "code",
   "execution_count": null,
   "metadata": {
    "execution": {
     "iopub.execute_input": "2021-09-26T01:49:57.891180Z",
     "iopub.status.busy": "2021-09-26T01:49:57.890968Z",
     "iopub.status.idle": "2021-09-26T01:49:57.918572Z",
     "shell.execute_reply": "2021-09-26T01:49:57.917655Z",
     "shell.execute_reply.started": "2021-09-26T01:49:57.891156Z"
    }
   },
   "outputs": [],
   "source": [
    "df.head(5)"
   ]
  },
  {
   "cell_type": "code",
   "execution_count": null,
   "metadata": {},
   "outputs": [],
   "source": [
    "# Drop match_id column\n",
    "df = df.drop(['match_id'], axis=1)"
   ]
  },
  {
   "cell_type": "code",
   "execution_count": null,
   "metadata": {},
   "outputs": [],
   "source": [
    "df.head(5)"
   ]
  },
  {
   "cell_type": "code",
   "execution_count": null,
   "metadata": {
    "execution": {
     "iopub.execute_input": "2021-09-26T01:49:59.527019Z",
     "iopub.status.busy": "2021-09-26T01:49:59.526560Z",
     "iopub.status.idle": "2021-09-26T01:50:00.916038Z",
     "shell.execute_reply": "2021-09-26T01:50:00.915010Z",
     "shell.execute_reply.started": "2021-09-26T01:49:59.526980Z"
    }
   },
   "outputs": [],
   "source": [
    "train_dataset = df.sample(frac=0.8, random_state=0) # 80-20 train-test splitting.\n",
    "test_dataset = df.drop(train_dataset.index) # drop all rows present in the train dataset."
   ]
  },
  {
   "cell_type": "code",
   "execution_count": null,
   "metadata": {
    "execution": {
     "iopub.execute_input": "2021-09-26T01:50:00.918863Z",
     "iopub.status.busy": "2021-09-26T01:50:00.918205Z",
     "iopub.status.idle": "2021-09-26T01:50:00.937257Z",
     "shell.execute_reply": "2021-09-26T01:50:00.935966Z",
     "shell.execute_reply.started": "2021-09-26T01:50:00.918809Z"
    }
   },
   "outputs": [],
   "source": [
    "# Let's look at the shape of our dataset after removing and modifying column values.\n",
    "df.head(5)"
   ]
  },
  {
   "cell_type": "code",
   "execution_count": null,
   "metadata": {
    "execution": {
     "iopub.execute_input": "2021-09-26T01:50:00.939405Z",
     "iopub.status.busy": "2021-09-26T01:50:00.939080Z",
     "iopub.status.idle": "2021-09-26T01:50:01.025771Z",
     "shell.execute_reply": "2021-09-26T01:50:01.024634Z",
     "shell.execute_reply.started": "2021-09-26T01:50:00.939364Z"
    }
   },
   "outputs": [],
   "source": [
    "# Splitting features (what we use to predict) from labels (what we want to predict)\n",
    "# We want to predict the 'win' variable.\n",
    "# The rest of variables will be inputs.\n",
    "\n",
    "train_features = train_dataset.copy()\n",
    "test_features = test_dataset.copy()\n",
    "\n",
    "train_labels = train_features.pop('win') # returns column 'win'\n",
    "test_labels = test_features.pop('win') # returns column 'win'"
   ]
  },
  {
   "cell_type": "code",
   "execution_count": null,
   "metadata": {},
   "outputs": [],
   "source": [
    "le = LabelEncoder()\n",
    "\n",
    "le = le.fit(champ_list) # fit the label encoder with the whole champion list.\n",
    "#le.classes_\n",
    "\n",
    "train_features = train_features.apply(lambda x: le.transform(x))\n",
    "test_features = test_features.apply(lambda x: le.transform(x))"
   ]
  },
  {
   "cell_type": "code",
   "execution_count": null,
   "metadata": {
    "execution": {
     "iopub.execute_input": "2021-09-26T01:50:01.027883Z",
     "iopub.status.busy": "2021-09-26T01:50:01.027520Z",
     "iopub.status.idle": "2021-09-26T01:50:04.415459Z",
     "shell.execute_reply": "2021-09-26T01:50:04.414358Z",
     "shell.execute_reply.started": "2021-09-26T01:50:01.027832Z"
    }
   },
   "outputs": [],
   "source": [
    "# Normalization\n",
    "scaler = StandardScaler()\n",
    "train_features = scaler.fit_transform(train_features)\n",
    "test_features = scaler.transform(test_features)"
   ]
  },
  {
   "cell_type": "code",
   "execution_count": null,
   "metadata": {},
   "outputs": [],
   "source": [
    "logreg = LogisticRegression()\n",
    "logreg.fit(train_features, train_labels)\n",
    "print('Accuracy of Logistic regression classifier on training set: {:.2f}'\n",
    "     .format(logreg.score(train_features, train_labels)))\n",
    "print('Accuracy of Logistic regression classifier on test set: {:.2f}'\n",
    "     .format(logreg.score(test_features, test_labels)))"
   ]
  },
  {
   "cell_type": "code",
   "execution_count": null,
   "metadata": {},
   "outputs": [],
   "source": [
    "logreg.predict(test_features)"
   ]
  },
  {
   "cell_type": "code",
   "execution_count": null,
   "metadata": {},
   "outputs": [],
   "source": [
    "new_data = {\n",
    "    'champ1': ['Xayah', 'Karma', 'Xerath', 'Gragas', 'Chogath'],\n",
    "    'champ2': ['Tristana', 'Lulu', 'Syndra', 'Sejuani', 'Gnar']\n",
    "}\n",
    "new_df = pd.DataFrame(new_data)"
   ]
  },
  {
   "cell_type": "code",
   "execution_count": null,
   "metadata": {},
   "outputs": [],
   "source": [
    "#le.transform(new_df['champ1'])\n",
    "\n",
    "new_df = new_df.apply(lambda x: le.transform(x))"
   ]
  },
  {
   "cell_type": "code",
   "execution_count": null,
   "metadata": {},
   "outputs": [],
   "source": [
    "new_df.tail(5)"
   ]
  },
  {
   "cell_type": "code",
   "execution_count": null,
   "metadata": {},
   "outputs": [],
   "source": [
    "result = logreg.predict(new_df)\n",
    "print(result)"
   ]
  },
  {
   "cell_type": "code",
   "execution_count": null,
   "metadata": {},
   "outputs": [],
   "source": [
    "inverse_prediction = new_df.apply(lambda x: le.inverse_transform(x))"
   ]
  },
  {
   "cell_type": "code",
   "execution_count": null,
   "metadata": {},
   "outputs": [],
   "source": [
    "def find_winner(lst):\n",
    "    return max(set(lst), key=lst.count)"
   ]
  },
  {
   "cell_type": "code",
   "execution_count": null,
   "metadata": {},
   "outputs": [],
   "source": [
    "winner_prediction = find_winner(result.tolist())"
   ]
  },
  {
   "cell_type": "code",
   "execution_count": null,
   "metadata": {},
   "outputs": [],
   "source": [
    "if winner_prediction == 1:\n",
    "    print('Predicted winner is team 1: \\n{}'.format(str(inverse_prediction['champ1'])))\n",
    "else:\n",
    "     print('Predicted winner is team 2: \\n{}'.format(str(inverse_prediction['champ2'])))\n"
   ]
  }
 ],
 "metadata": {
  "interpreter": {
   "hash": "a3915591bf7bdda55772125319070312788a6011de1744c4574eb87cf103f23a"
  },
  "kernelspec": {
   "display_name": "Python 3.8.8 64-bit ('base': conda)",
   "name": "python3"
  },
  "language_info": {
   "codemirror_mode": {
    "name": "ipython",
    "version": 3
   },
   "file_extension": ".py",
   "mimetype": "text/x-python",
   "name": "python",
   "nbconvert_exporter": "python",
   "pygments_lexer": "ipython3",
   "version": "3.9.18"
  }
 },
 "nbformat": 4,
 "nbformat_minor": 4
}
